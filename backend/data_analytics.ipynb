{
 "cells": [
  {
   "cell_type": "code",
   "execution_count": 2,
   "metadata": {},
   "outputs": [],
   "source": [
    "import pandas as pd\n",
    "import numpy as np\n",
    "import matplotlib.pyplot as plt\n",
    "import seaborn as sns\n",
    "from sklearn.ensemble import RandomForestRegressor\n",
    "from sklearn.model_selection import train_test_split\n",
    "from sklearn.preprocessing import StandardScaler\n",
    "from sklearn.impute import SimpleImputer\n",
    "import torch\n",
    "from torch.utils.data import TensorDataset, DataLoader"
   ]
  },
  {
   "cell_type": "code",
   "execution_count": 3,
   "metadata": {},
   "outputs": [
    {
     "data": {
      "text/plain": [
       "Index(['date', 'Sleep Score', 'Total Sleep Score', 'REM Sleep Score',\n",
       "       'Deep Sleep Score', 'Sleep Efficiency Score', 'Restfulness Score',\n",
       "       'Sleep Latency Score', 'Sleep Timin Score', 'Total Sleep Duration',\n",
       "       'Total Bedtime ', 'Awake Time', 'REM Sleep Duration',\n",
       "       'Light Sleep Duration', 'Deep Sleep Duration', 'Restless Sleep',\n",
       "       'Sleep Efficiency', 'Sleep Latency', 'Sleep Timing', 'Bedtime Start',\n",
       "       'Bedtime End', 'Average Resting Heart Rate',\n",
       "       'Lowest Resting Heart Rate', 'Average HRV',\n",
       "       'Temperature Deviation (°C)', 'Temperature Trend Deviation',\n",
       "       'Respiratory Rate', 'Activity Score', 'Stay Active Score',\n",
       "       'Move Every Hour Score', 'Meet Daily Targets Score',\n",
       "       'Training Frequency Score', 'Training Volume Score', 'Activity Burn',\n",
       "       'Total Burn', 'Steps', 'Equivalent Walking Distance', 'Inactive Time',\n",
       "       'Rest Time', 'Low Activity Time', 'Medium Activity Time',\n",
       "       'High Activity Time', 'Non-wear Time', 'Average MET',\n",
       "       'Long Periods of Inactivity', 'Readiness Score', 'Previous Night Score',\n",
       "       'Sleep Balance Score', 'Previous Day Activity Score',\n",
       "       'Activity Balance Score', 'Temperature Score',\n",
       "       'Resting Heart Rate Score', 'HRV Balance Score',\n",
       "       'Recovery Index Score'],\n",
       "      dtype='object')"
      ]
     },
     "execution_count": 3,
     "metadata": {},
     "output_type": "execute_result"
    }
   ],
   "source": [
    "df = pd.read_csv('/Users/dmitrykorzhov/Desktop/Root/projects/oura_ai/backend/oura_2024-04-16_2024-06-16_trends.csv')\n",
    "df.columns"
   ]
  },
  {
   "cell_type": "code",
   "execution_count": 7,
   "metadata": {},
   "outputs": [],
   "source": [
    "df['date'] = pd.to_datetime(df['date'])\n",
    "df = df.sort_values('date')"
   ]
  },
  {
   "cell_type": "code",
   "execution_count": 12,
   "metadata": {},
   "outputs": [],
   "source": [
    "new = df.drop(columns=['date'])\n",
    "mew = df.drop(columns=['Bedtime Start', 'Bedtime End'])\n",
    "\n",
    "df_numeric = df.drop(['date', 'Bedtime Start', 'Bedtime End'], axis=1)"
   ]
  },
  {
   "cell_type": "code",
   "execution_count": 21,
   "metadata": {},
   "outputs": [],
   "source": [
    "correlation = df_numeric.corr()['Deep Sleep Score'].sort_values(ascending=False)"
   ]
  },
  {
   "cell_type": "code",
   "execution_count": 22,
   "metadata": {},
   "outputs": [
    {
     "data": {
      "text/plain": [
       "Deep Sleep Score               1.000000\n",
       "Deep Sleep Duration            0.938598\n",
       "Previous Night Score           0.651263\n",
       "Sleep Score                    0.648491\n",
       "Total Sleep Score              0.607085\n",
       "Rest Time                      0.565313\n",
       "Sleep Timing                   0.533931\n",
       "Total Sleep Duration           0.522873\n",
       "Total Bedtime                  0.522170\n",
       "Sleep Balance Score            0.491460\n",
       "Awake Time                     0.401612\n",
       "Temperature Deviation (°C)     0.401505\n",
       "Respiratory Rate               0.398112\n",
       "Average Resting Heart Rate     0.390347\n",
       "Stay Active Score              0.361065\n",
       "Restless Sleep                 0.350884\n",
       "Recovery Index Score           0.321952\n",
       "REM Sleep Score                0.308376\n",
       "Activity Balance Score         0.289157\n",
       "Sleep Timin Score              0.288499\n",
       "Medium Activity Time           0.287732\n",
       "Lowest Resting Heart Rate      0.271586\n",
       "Readiness Score                0.259658\n",
       "REM Sleep Duration             0.253643\n",
       "Activity Score                 0.179257\n",
       "Training Frequency Score       0.178203\n",
       "Long Periods of Inactivity     0.171195\n",
       "Steps                          0.115753\n",
       "Sleep Latency                  0.067630\n",
       "Temperature Trend Deviation    0.064191\n",
       "Equivalent Walking Distance    0.063541\n",
       "Light Sleep Duration           0.050669\n",
       "Activity Burn                  0.030175\n",
       "Training Volume Score         -0.005934\n",
       "Total Burn                    -0.008531\n",
       "Previous Day Activity Score   -0.049950\n",
       "Sleep Latency Score           -0.066386\n",
       "High Activity Time            -0.071101\n",
       "HRV Balance Score             -0.079373\n",
       "Average MET                   -0.084988\n",
       "Non-wear Time                 -0.091707\n",
       "Restfulness Score             -0.102143\n",
       "Low Activity Time             -0.198311\n",
       "Move Every Hour Score         -0.224583\n",
       "Resting Heart Rate Score      -0.255692\n",
       "Sleep Efficiency              -0.262672\n",
       "Sleep Efficiency Score        -0.270462\n",
       "Average HRV                   -0.270856\n",
       "Meet Daily Targets Score      -0.279670\n",
       "Temperature Score             -0.285898\n",
       "Inactive Time                 -0.406057\n",
       "Name: Deep Sleep Score, dtype: float64"
      ]
     },
     "execution_count": 22,
     "metadata": {},
     "output_type": "execute_result"
    }
   ],
   "source": [
    "correlation"
   ]
  },
  {
   "cell_type": "code",
   "execution_count": 25,
   "metadata": {},
   "outputs": [],
   "source": [
    "features = df.drop(['Sleep Score', 'date', 'Bedtime Start', 'Bedtime End'], axis=1)\n",
    "features = features.fillna(features.mean())\n",
    "features_tensor = torch.tensor(features.values, dtype=torch.float32)\n",
    "\n",
    "target = df['Sleep Score']\n",
    "target = target.fillna(target.mean())\n",
    "target_tensor = torch.tensor(target.values, dtype=torch.float32)"
   ]
  },
  {
   "cell_type": "code",
   "execution_count": 29,
   "metadata": {},
   "outputs": [],
   "source": [
    "dataset = TensorDataset(features_tensor, target_tensor)\n",
    "\n",
    "train_size = int(0.8 * len(dataset))\n",
    "test_size = len(dataset) - train_size\n",
    "train_dataset, test_dataset = torch.utils.data.random_split(dataset, [train_size, test_size])\n",
    "\n",
    "train_loader = DataLoader(train_dataset, batch_size=16, shuffle=False)\n",
    "test_loader = DataLoader(test_dataset, batch_size=16, shuffle=False)"
   ]
  },
  {
   "cell_type": "code",
   "execution_count": null,
   "metadata": {},
   "outputs": [],
   "source": []
  }
 ],
 "metadata": {
  "kernelspec": {
   "display_name": "Python 3",
   "language": "python",
   "name": "python3"
  },
  "language_info": {
   "codemirror_mode": {
    "name": "ipython",
    "version": 3
   },
   "file_extension": ".py",
   "mimetype": "text/x-python",
   "name": "python",
   "nbconvert_exporter": "python",
   "pygments_lexer": "ipython3",
   "version": "3.11.3"
  }
 },
 "nbformat": 4,
 "nbformat_minor": 2
}
