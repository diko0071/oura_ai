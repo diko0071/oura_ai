{
 "cells": [
  {
   "cell_type": "code",
   "execution_count": 1,
   "metadata": {},
   "outputs": [],
   "source": [
    "import pandas as pd\n",
    "import numpy as np\n",
    "import matplotlib.pyplot as plt\n",
    "import seaborn as sns\n",
    "from sklearn.ensemble import RandomForestRegressor\n",
    "from sklearn.model_selection import train_test_split\n",
    "from sklearn.preprocessing import StandardScaler\n",
    "from sklearn.impute import SimpleImputer\n",
    "import torch\n",
    "from torch.utils.data import TensorDataset, DataLoader\n",
    "import os \n",
    "import requests\n",
    "from datetime import datetime\n",
    "import pandas as pd\n",
    "from sklearn.preprocessing import StandardScaler\n",
    "from sklearn.model_selection import cross_val_score\n",
    "import pickle\n",
    "from sklearn.metrics import mean_squared_error, mean_absolute_error, r2_score\n",
    "import copy\n",
    "import sklearn"
   ]
  },
  {
   "cell_type": "code",
   "execution_count": 2,
   "metadata": {},
   "outputs": [
    {
     "name": "stdout",
     "output_type": "stream",
     "text": [
      "Pandas version: 2.1.1\n",
      "Pickle version: 4.0\n",
      "Numpy version: 1.24.3\n",
      "Scikit-learn version: 1.3.2\n"
     ]
    }
   ],
   "source": [
    "print(f\"Pandas version: {pd.__version__}\")\n",
    "print(f\"Pickle version: {pickle.format_version}\")\n",
    "print(f\"Numpy version: {np.__version__}\")\n",
    "print(f\"Scikit-learn version: {sklearn.__version__}\")"
   ]
  },
  {
   "cell_type": "markdown",
   "metadata": {},
   "source": [
    "## Load"
   ]
  },
  {
   "cell_type": "code",
   "execution_count": 14,
   "metadata": {},
   "outputs": [],
   "source": [
    "url = 'https://api.ouraring.com/v2/usercollection/daily_stress' \n",
    "params={ \n",
    "    'start_date': '2023-01-01', \n",
    "    'end_date': '2024-12-01' \n",
    "}\n",
    "headers = { \n",
    "  'Authorization': f'Bearer {os.getenv(\"OURA_TOKEN\")}' \n",
    "}\n",
    "response = requests.request('GET', url, headers=headers, params=params) \n",
    "data = response.json()['data']"
   ]
  },
  {
   "cell_type": "code",
   "execution_count": 15,
   "metadata": {},
   "outputs": [],
   "source": [
    "def get_data(api):\n",
    "    url = f'https://api.ouraring.com/v2/usercollection/{api}'\n",
    "    headers = { \n",
    "        'Authorization': f'Bearer {os.getenv(\"OURA_TOKEN\")}' \n",
    "    }\n",
    "    response = requests.request('GET', url, headers=headers, params=params) \n",
    "    data = response.json()['data']\n",
    "\n",
    "    rows = []\n",
    "\n",
    "    for item in data: \n",
    "        row = item.copy()\n",
    "\n",
    "        if 'contributors' in item:\n",
    "            row.update(item['contributors'])\n",
    "            del row['contributors']\n",
    "        \n",
    "        rows.append(row)\n",
    "    \n",
    "    return rows\n",
    "\n",
    "\n",
    "def aggregate_data(apis):\n",
    "    combined_df = pd.DataFrame()\n",
    "\n",
    "    for api in apis:\n",
    "        data = get_data(api)\n",
    "        df = pd.DataFrame(data)\n",
    "        df['day'] = pd.to_datetime(df['day']).dt.date\n",
    "        df = df.set_index('day')\n",
    "        df.columns = [f'{api}_{col}' for col in df.columns]\n",
    "        \n",
    "        if combined_df.empty:\n",
    "            combined_df = df\n",
    "        else:\n",
    "            combined_df = combined_df.join(df, how='outer')\n",
    "    \n",
    "    combined_df = combined_df.reset_index()\n",
    "\n",
    "    return combined_df"
   ]
  },
  {
   "cell_type": "code",
   "execution_count": 16,
   "metadata": {},
   "outputs": [],
   "source": [
    "api = [\n",
    "    'daily_sleep',\n",
    "    'daily_readiness',\n",
    "    'daily_stress',\n",
    "    'daily_activity',\n",
    "]\n",
    "aggregated_data = aggregate_data(api)"
   ]
  },
  {
   "cell_type": "markdown",
   "metadata": {},
   "source": [
    "## Normalization"
   ]
  },
  {
   "cell_type": "code",
   "execution_count": 18,
   "metadata": {},
   "outputs": [],
   "source": [
    "day_summary_mapping = {\n",
    "    'restored': 1,\n",
    "    'normal': 0,\n",
    "    'stressful': -1,\n",
    "    None: 0\n",
    "}\n",
    "aggregated_data['daily_stress_day_summary'] = aggregated_data['daily_stress_day_summary'].map(day_summary_mapping)\n",
    "\n",
    "aggregated_data['week'] = pd.to_datetime(aggregated_data['day']).dt.isocalendar().week"
   ]
  },
  {
   "cell_type": "code",
   "execution_count": 19,
   "metadata": {},
   "outputs": [],
   "source": [
    "aggregated_data['week'] = pd.to_datetime(aggregated_data['day']).dt.isocalendar().week"
   ]
  },
  {
   "cell_type": "code",
   "execution_count": 20,
   "metadata": {},
   "outputs": [],
   "source": [
    "columns_to_drop = ['daily_sleep_id', 'daily_sleep_timestamp', 'daily_readiness_id', \n",
    "                   'daily_readiness_timestamp', 'daily_stress_id', 'daily_activity_id', \n",
    "                   'daily_activity_timestamp', 'daily_activity_met', 'daily_activity_class_5_min']\n",
    "\n",
    "aggregated_data = aggregated_data.drop(columns=[col for col in columns_to_drop if col in aggregated_data.columns])"
   ]
  },
  {
   "cell_type": "code",
   "execution_count": 21,
   "metadata": {},
   "outputs": [],
   "source": [
    "aggregated_data = aggregated_data.dropna(axis=1, how='all')\n",
    "numeric_columns = aggregated_data.select_dtypes(include=['float64', 'int64'])\n",
    "aggregated_data[numeric_columns.columns] = numeric_columns.fillna(numeric_columns.mean())"
   ]
  },
  {
   "cell_type": "code",
   "execution_count": 22,
   "metadata": {},
   "outputs": [],
   "source": [
    "without_normalization_df = copy.deepcopy(aggregated_data)\n",
    "without_normalization_df['day'] = pd.to_datetime(without_normalization_df['day'])"
   ]
  },
  {
   "cell_type": "code",
   "execution_count": 24,
   "metadata": {},
   "outputs": [],
   "source": [
    "scaler = StandardScaler()\n",
    "aggregated_data[numeric_columns.columns] = scaler.fit_transform(numeric_columns)"
   ]
  },
  {
   "cell_type": "markdown",
   "metadata": {},
   "source": [
    "## Model "
   ]
  },
  {
   "cell_type": "code",
   "execution_count": 59,
   "metadata": {},
   "outputs": [],
   "source": [
    "def train_model(df, target):\n",
    "    weeks = df['week'].unique()\n",
    "    imputer_X = SimpleImputer(strategy='mean')\n",
    "    imputer_y = SimpleImputer(strategy='mean')\n",
    "    models = {}\n",
    "\n",
    "    for week in weeks:\n",
    "        df_week = df[df['week'] == week]\n",
    "        if df_week.empty:\n",
    "            continue\n",
    "        \n",
    "        X_week = df_week.drop(columns=[target, 'day', 'week'], errors='ignore')\n",
    "        X_week = X_week.select_dtypes(include=[float, int])\n",
    "        \n",
    "        if X_week.empty or X_week.shape[0] == 0 or X_week.shape[1] == 0:\n",
    "            continue\n",
    "        \n",
    "        X_week = X_week.dropna(axis=1, how='all')\n",
    "        imputed_data = imputer_X.fit_transform(X_week)\n",
    "        X_week = pd.DataFrame(imputed_data, columns=X_week.columns)\n",
    "        \n",
    "        y_week = df_week[target]\n",
    "        if y_week.empty or len(y_week) == 0:\n",
    "            continue\n",
    "        \n",
    "        imputer_y.fit(y_week.values.reshape(-1, 1))\n",
    "        y_week = pd.Series(imputer_y.transform(y_week.values.reshape(-1, 1)).flatten())\n",
    "        \n",
    "        X_train, X_test, y_train, y_test = train_test_split(X_week, y_week, test_size=0.2, random_state=42)\n",
    "        \n",
    "        model = RandomForestRegressor(n_estimators=100, random_state=42)\n",
    "        model.fit(X_train, y_train)\n",
    "        \n",
    "        models[week] = {'model': model, 'X_test': X_test, 'y_test': y_test, 'X_columns': X_week.columns}\n",
    "    \n",
    "    return models"
   ]
  },
  {
   "cell_type": "code",
   "execution_count": 11,
   "metadata": {},
   "outputs": [],
   "source": [
    "def evaluate_model(models):\n",
    "    weekly_metrics = []\n",
    "\n",
    "    for week, data in models.items():\n",
    "        model = data['model']\n",
    "        X_test = data['X_test']\n",
    "        y_test = data['y_test']\n",
    "        \n",
    "        y_pred = model.predict(X_test)\n",
    "        \n",
    "        mse = mean_squared_error(y_test, y_pred)\n",
    "        mae = mean_absolute_error(y_test, y_pred)\n",
    "        r2 = r2_score(y_test, y_pred)\n",
    "        \n",
    "        weekly_metrics.append({'week': week, 'MSE': mse, 'MAE': mae, 'R2': r2})\n",
    "    \n",
    "    return weekly_metrics"
   ]
  },
  {
   "cell_type": "code",
   "execution_count": 25,
   "metadata": {},
   "outputs": [],
   "source": [
    "def compute_feature_importances(models):\n",
    "    weekly_importances = []\n",
    "\n",
    "    for week, data in models.items():\n",
    "        model = data['model']\n",
    "        X_test = data['X_test']\n",
    "        \n",
    "        importances = model.feature_importances_\n",
    "        feature_importance = pd.DataFrame({'feature': X_test.columns, 'importance': importances, 'week': week})\n",
    "        weekly_importances.append(feature_importance)\n",
    "    \n",
    "    if weekly_importances:\n",
    "        weekly_importances_df = pd.concat(weekly_importances, ignore_index=True)\n",
    "        return weekly_importances_df\n",
    "    else:\n",
    "        return pd.DataFrame(columns=['feature', 'importance', 'week'])"
   ]
  },
  {
   "cell_type": "code",
   "execution_count": 26,
   "metadata": {},
   "outputs": [],
   "source": [
    "def compute_feature_importances(models):\n",
    "    weekly_importances = []\n",
    "\n",
    "    if isinstance(models, dict):\n",
    "        models = [models]\n",
    "\n",
    "    for model_data in models:\n",
    "        for week, data in model_data.items():\n",
    "            model = data['model']\n",
    "            X_test = data['X_test']\n",
    "            \n",
    "            importances = model.feature_importances_\n",
    "            feature_importance = pd.DataFrame({'feature': X_test.columns, 'importance': importances, 'week': week})\n",
    "            weekly_importances.append(feature_importance)\n",
    "    \n",
    "    if weekly_importances:\n",
    "        weekly_importances_df = pd.concat(weekly_importances, ignore_index=True)\n",
    "        return weekly_importances_df\n",
    "    else:\n",
    "        return pd.DataFrame(columns=['feature', 'importance', 'week'])"
   ]
  },
  {
   "cell_type": "code",
   "execution_count": 60,
   "metadata": {},
   "outputs": [],
   "source": [
    "def load_models(metrics, directory):\n",
    "    loaded_models = {}\n",
    "    for metric in metrics:\n",
    "        with open(os.path.join(directory, f'{metric}_model.pkl'), 'rb') as f:\n",
    "            loaded_models[metric + \"_model\"] = pickle.load(f)\n",
    "    return loaded_models"
   ]
  },
  {
   "cell_type": "code",
   "execution_count": 61,
   "metadata": {},
   "outputs": [],
   "source": [
    "metrics = ['daily_activity_score', 'daily_readiness_score', 'daily_stress_day_summary', 'daily_sleep_score']"
   ]
  },
  {
   "cell_type": "code",
   "execution_count": 62,
   "metadata": {},
   "outputs": [],
   "source": [
    "models = {}\n",
    "\n",
    "for metric in metrics:\n",
    "    models[metric] = train_model(aggregated_data, metric)\n",
    "\n",
    "save_dir = '/Users/dmitrykorzhov/Desktop/Root/projects/oura_ai/backend/ml_models'\n",
    "\n",
    "for metric, model in models.items():\n",
    "    with open(os.path.join(save_dir, f'{metric}_model.pkl'), 'wb') as f:\n",
    "        pickle.dump(model, f)"
   ]
  },
  {
   "cell_type": "code",
   "execution_count": 63,
   "metadata": {},
   "outputs": [],
   "source": [
    "load_dir = '/Users/dmitrykorzhov/Desktop/Root/projects/oura_ai/backend/ml_models'\n",
    "\n",
    "loaded_models = load_models(metrics, load_dir)\n",
    "\n",
    "importance_dfs = {metric: compute_feature_importances(model) for metric, model in loaded_models.items()}"
   ]
  },
  {
   "cell_type": "code",
   "execution_count": 64,
   "metadata": {},
   "outputs": [
    {
     "data": {
      "text/plain": [
       "{'daily_activity_score_model':                                 feature  importance  week\n",
       " 0                     daily_sleep_score    0.029192    47\n",
       " 1                daily_sleep_deep_sleep    0.014194    47\n",
       " 2                daily_sleep_efficiency    0.035268    47\n",
       " 3                   daily_sleep_latency    0.005426    47\n",
       " 4                 daily_sleep_rem_sleep    0.062049    47\n",
       " ...                                 ...         ...   ...\n",
       " 1498     daily_activity_move_every_hour    0.019231    26\n",
       " 1499       daily_activity_recovery_time    0.000000    26\n",
       " 1500         daily_activity_stay_active    0.000000    26\n",
       " 1501  daily_activity_training_frequency    0.000000    26\n",
       " 1502     daily_activity_training_volume    0.000000    26\n",
       " \n",
       " [1503 rows x 3 columns],\n",
       " 'daily_readiness_score_model':                                 feature  importance  week\n",
       " 0                     daily_sleep_score    0.031816    47\n",
       " 1                daily_sleep_deep_sleep    0.029995    47\n",
       " 2                daily_sleep_efficiency    0.010850    47\n",
       " 3                   daily_sleep_latency    0.020826    47\n",
       " 4                 daily_sleep_rem_sleep    0.031374    47\n",
       " ...                                 ...         ...   ...\n",
       " 1498     daily_activity_move_every_hour    0.019231    26\n",
       " 1499       daily_activity_recovery_time    0.000000    26\n",
       " 1500         daily_activity_stay_active    0.000000    26\n",
       " 1501  daily_activity_training_frequency    0.000000    26\n",
       " 1502     daily_activity_training_volume    0.000000    26\n",
       " \n",
       " [1503 rows x 3 columns],\n",
       " 'daily_stress_day_summary_model':                                 feature  importance  week\n",
       " 0                     daily_sleep_score         0.0    47\n",
       " 1                daily_sleep_deep_sleep         0.0    47\n",
       " 2                daily_sleep_efficiency         0.0    47\n",
       " 3                   daily_sleep_latency         0.0    47\n",
       " 4                 daily_sleep_rem_sleep         0.0    47\n",
       " ...                                 ...         ...   ...\n",
       " 1498     daily_activity_move_every_hour         0.0    26\n",
       " 1499       daily_activity_recovery_time         0.0    26\n",
       " 1500         daily_activity_stay_active         0.0    26\n",
       " 1501  daily_activity_training_frequency         0.0    26\n",
       " 1502     daily_activity_training_volume         0.0    26\n",
       " \n",
       " [1503 rows x 3 columns],\n",
       " 'daily_sleep_score_model':                                 feature  importance  week\n",
       " 0                daily_sleep_deep_sleep    0.021278    47\n",
       " 1                daily_sleep_efficiency    0.029989    47\n",
       " 2                   daily_sleep_latency    0.022313    47\n",
       " 3                 daily_sleep_rem_sleep    0.030171    47\n",
       " 4               daily_sleep_restfulness    0.041056    47\n",
       " ...                                 ...         ...   ...\n",
       " 1498     daily_activity_move_every_hour    0.019231    26\n",
       " 1499       daily_activity_recovery_time    0.000000    26\n",
       " 1500         daily_activity_stay_active    0.000000    26\n",
       " 1501  daily_activity_training_frequency    0.000000    26\n",
       " 1502     daily_activity_training_volume    0.000000    26\n",
       " \n",
       " [1503 rows x 3 columns]}"
      ]
     },
     "execution_count": 64,
     "metadata": {},
     "output_type": "execute_result"
    }
   ],
   "source": [
    "importance_dfs"
   ]
  },
  {
   "cell_type": "code",
   "execution_count": 65,
   "metadata": {},
   "outputs": [],
   "source": [
    "directory = 'ml_models'\n",
    "\n",
    "def load_model(metric):\n",
    "    with open(os.path.join(directory, f'{metric}_model.pkl'), 'rb') as f:\n",
    "        return pickle.load(f)\n",
    "\n",
    "\n",
    "def row_insights_for_metric(metric):\n",
    "    loaded_model = load_model(metric)\n",
    "    \n",
    "    feature_importances = compute_feature_importances(loaded_model)\n",
    "    \n",
    "    return feature_importances"
   ]
  },
  {
   "cell_type": "code",
   "execution_count": 66,
   "metadata": {},
   "outputs": [],
   "source": [
    "aggregated_data.to_csv('aggregated_data.csv')"
   ]
  },
  {
   "cell_type": "code",
   "execution_count": 67,
   "metadata": {},
   "outputs": [],
   "source": [
    "importance = row_insights_for_metric('daily_activity_score')"
   ]
  },
  {
   "cell_type": "code",
   "execution_count": 68,
   "metadata": {},
   "outputs": [
    {
     "ename": "KeyError",
     "evalue": "'daily_activity_score'",
     "output_type": "error",
     "traceback": [
      "\u001b[0;31m---------------------------------------------------------------------------\u001b[0m",
      "\u001b[0;31mKeyError\u001b[0m                                  Traceback (most recent call last)",
      "Cell \u001b[0;32mIn[68], line 1\u001b[0m\n\u001b[0;32m----> 1\u001b[0m \u001b[43mimportance_dfs\u001b[49m\u001b[43m[\u001b[49m\u001b[38;5;124;43m'\u001b[39;49m\u001b[38;5;124;43mdaily_activity_score\u001b[39;49m\u001b[38;5;124;43m'\u001b[39;49m\u001b[43m]\u001b[49m\n",
      "\u001b[0;31mKeyError\u001b[0m: 'daily_activity_score'"
     ]
    }
   ],
   "source": [
    "importance_dfs['daily_activity_score']"
   ]
  },
  {
   "cell_type": "code",
   "execution_count": 75,
   "metadata": {},
   "outputs": [],
   "source": [
    "def get_current_week_data(importance_df, without_normalization_df, metric):\n",
    "    weeks = importance_df['week'].unique()\n",
    "    \n",
    "    current_week = weeks[-1]\n",
    "    \n",
    "    metric = metric.replace('_model', '')\n",
    "\n",
    "    current_week_top_10 = importance_df[importance_df['week'] == current_week].sort_values(by='importance', ascending=False).head(10)\n",
    "\n",
    "    new_this_week = set(current_week_top_10['feature'])\n",
    "\n",
    "    current_week_values = without_normalization_df[without_normalization_df['week'] == current_week][current_week_top_10['feature'].tolist() + ['day']].set_index('day').to_dict()\n",
    "\n",
    "    metric_current_week_values = without_normalization_df[without_normalization_df['week'] == current_week][[metric, 'day']].set_index('day').to_dict()\n",
    "\n",
    "    current_week_days = without_normalization_df[without_normalization_df['week'] == current_week]['day']\n",
    "\n",
    "    current_date = pd.to_datetime('today').date()\n",
    "\n",
    "    current_week_days = pd.to_datetime(current_week_days).dt.date\n",
    "\n",
    "    results = {\n",
    "        'new_this_week': list(new_this_week),\n",
    "        'current_week_values': current_week_values,\n",
    "        'current_week_top_10': current_week_top_10.set_index('feature')['importance'].to_dict(),\n",
    "        'metric_current_week_values': metric_current_week_values,\n",
    "    }\n",
    "    \n",
    "    return results\n",
    "\n",
    "\n",
    "def get_last_week_data(importance_df, without_normalization_df, metric):\n",
    "    weeks = importance_df['week'].unique()\n",
    "\n",
    "    last_week = weeks[-2]\n",
    "    \n",
    "    metric = metric.replace('_model', '')\n",
    "\n",
    "    last_week_top_10 = importance_df[importance_df['week'] == last_week].sort_values(by='importance', ascending=False).head(10)\n",
    "\n",
    "    new_this_week = set(last_week_top_10['feature'])\n",
    "\n",
    "    last_week_values = without_normalization_df[without_normalization_df['week'] == last_week][last_week_top_10['feature'].tolist() + ['day']].set_index('day').to_dict()\n",
    "\n",
    "    metric_last_week_values = without_normalization_df[without_normalization_df['week'] == last_week][[metric, 'day']].set_index('day').to_dict()\n",
    "\n",
    "    last_week_days = without_normalization_df[without_normalization_df['week'] == last_week]['day']\n",
    "\n",
    "    current_date = pd.to_datetime('today').date()\n",
    "\n",
    "    last_week_days = pd.to_datetime(last_week_days).dt.date\n",
    "\n",
    "    results = {\n",
    "        'new_this_week': list(new_this_week),\n",
    "        'last_week_values': last_week_values,\n",
    "        'last_week_top_10': last_week_top_10.set_index('feature')['importance'].to_dict(),\n",
    "        'metric_last_week_values': metric_last_week_values,\n",
    "    }\n",
    "    \n",
    "    return results\n",
    "\n",
    "\n",
    "def get_last_month_data(importance_df, without_normalization_df):\n",
    "    weeks = importance_df['week'].unique()\n",
    "    last_month_weeks = weeks[-4:] if len(weeks) > 4 else weeks\n",
    "\n",
    "    last_month_top_10 = importance_df[importance_df['week'].isin(last_month_weeks)].groupby('feature')['importance'].mean().sort_values(ascending=False).head(10)\n",
    "    previous_month_top_10 = importance_df[importance_df['week'].isin(weeks[-8:-4])].groupby('feature')['importance'].mean().sort_values(ascending=False).head(10) if len(weeks) > 8 else last_month_top_10\n",
    "\n",
    "    new_this_month = set(last_month_top_10.index) - set(previous_month_top_10.index)\n",
    "\n",
    "    last_month_values = without_normalization_df[without_normalization_df['week'].isin(last_month_weeks)].drop(columns=['week', 'day']).mean().to_dict()\n",
    "\n",
    "    consistent_monthly_features = set.intersection(*[set(importance_df[importance_df['week'] == week].sort_values(by='importance', ascending=False).head(20)['feature']) for week in last_month_weeks])\n",
    "\n",
    "    results = {\n",
    "        'new_this_month': list(new_this_month),\n",
    "        'last_month_values': last_month_values,\n",
    "        'last_month_top_10': last_month_top_10.to_dict(),\n",
    "        'consistent_monthly_features': {feature: importance_df[importance_df['feature'] == feature]['importance'].mean() for feature in consistent_monthly_features},\n",
    "    }\n",
    "    \n",
    "    return results\n",
    "\n",
    "def get_last_3months_data(importance_df, without_normalization_df):\n",
    "    weeks = importance_df['week'].unique()\n",
    "    last_3months_weeks = weeks[-12:] if len(weeks) > 12 else weeks\n",
    "\n",
    "    last_3months_top_10 = importance_df[importance_df['week'].isin(last_3months_weeks)].groupby('feature')['importance'].mean().sort_values(ascending=False).head(10)\n",
    "    previous_3months_top_10 = importance_df[importance_df['week'].isin(weeks[-24:-12])].groupby('feature')['importance'].mean().sort_values(ascending=False).head(10) if len(weeks) > 24 else last_3months_top_10\n",
    "\n",
    "    new_this_3months = set(last_3months_top_10.index) - set(previous_3months_top_10.index)\n",
    "\n",
    "    last_3months_values = without_normalization_df[without_normalization_df['week'].isin(last_3months_weeks)].drop(columns=['week', 'day']).mean().to_dict()\n",
    "\n",
    "    consistent_3months_features = set.intersection(*[set(importance_df[importance_df['week'] == week].sort_values(by='importance', ascending=False).head(20)['feature']) for week in last_3months_weeks])\n",
    "\n",
    "    results = {\n",
    "        'new_this_3months': list(new_this_3months),\n",
    "        'last_3months_values': last_3months_values,\n",
    "        'last_3months_top_10': last_3months_top_10.to_dict(),\n",
    "        'consistent_3months_features': {feature: importance_df[importance_df['feature'] == feature]['importance'].mean() for feature in consistent_3months_features},\n",
    "    }\n",
    "    \n",
    "    return results"
   ]
  },
  {
   "cell_type": "code",
   "execution_count": 78,
   "metadata": {},
   "outputs": [
    {
     "name": "stdout",
     "output_type": "stream",
     "text": [
      "\n",
      "Metric: daily_activity_score_model\n",
      "\n",
      "Target metrics values for the current week by days:\n",
      "['daily_readiness_temperature_deviation', 'daily_activity_low_activity_time', 'daily_readiness_previous_night', 'daily_stress_stress_high', 'daily_activity_target_calories', 'daily_activity_target_meters', 'daily_activity_equivalent_walking_distance', 'daily_readiness_recovery_index', 'daily_activity_meters_to_target', 'daily_sleep_total_sleep']\n",
      "\n",
      "New features current week:\n",
      "{'daily_readiness_temperature_deviation': {Timestamp('2024-06-24 00:00:00'): 0.25, Timestamp('2024-06-25 00:00:00'): -0.25, Timestamp('2024-06-26 00:00:00'): 0.26}, 'daily_stress_stress_high': {Timestamp('2024-06-24 00:00:00'): 3600, Timestamp('2024-06-25 00:00:00'): 8100, Timestamp('2024-06-26 00:00:00'): 3600}, 'daily_activity_target_calories': {Timestamp('2024-06-24 00:00:00'): 600, Timestamp('2024-06-25 00:00:00'): 600, Timestamp('2024-06-26 00:00:00'): 400}, 'daily_readiness_previous_night': {Timestamp('2024-06-24 00:00:00'): 39.0, Timestamp('2024-06-25 00:00:00'): 36.0, Timestamp('2024-06-26 00:00:00'): 46.0}, 'daily_activity_target_meters': {Timestamp('2024-06-24 00:00:00'): 12000, Timestamp('2024-06-25 00:00:00'): 12000, Timestamp('2024-06-26 00:00:00'): 8000}, 'daily_activity_equivalent_walking_distance': {Timestamp('2024-06-24 00:00:00'): 4461, Timestamp('2024-06-25 00:00:00'): 9729, Timestamp('2024-06-26 00:00:00'): 4254}, 'daily_readiness_recovery_index': {Timestamp('2024-06-24 00:00:00'): 58.0, Timestamp('2024-06-25 00:00:00'): 82.0, Timestamp('2024-06-26 00:00:00'): 52.0}, 'daily_activity_low_activity_time': {Timestamp('2024-06-24 00:00:00'): 14460, Timestamp('2024-06-25 00:00:00'): 22260, Timestamp('2024-06-26 00:00:00'): 5100}, 'daily_sleep_total_sleep': {Timestamp('2024-06-24 00:00:00'): 44.0, Timestamp('2024-06-25 00:00:00'): 40.0, Timestamp('2024-06-26 00:00:00'): 38.0}, 'daily_activity_meters_to_target': {Timestamp('2024-06-24 00:00:00'): 5600, Timestamp('2024-06-25 00:00:00'): -1000, Timestamp('2024-06-26 00:00:00'): 3300}}\n",
      "\n",
      "Current week feature values by days for current week:\n",
      "{'daily_readiness_temperature_deviation': 0.07692307692307693, 'daily_stress_stress_high': 0.057692307692307696, 'daily_activity_target_calories': 0.057692307692307696, 'daily_readiness_previous_night': 0.057692307692307696, 'daily_activity_target_meters': 0.057692307692307696, 'daily_activity_equivalent_walking_distance': 0.038461538461538464, 'daily_readiness_recovery_index': 0.038461538461538464, 'daily_activity_low_activity_time': 0.038461538461538464, 'daily_sleep_total_sleep': 0.038461538461538464, 'daily_activity_meters_to_target': 0.038461538461538464}\n",
      "\n",
      "Target metrics values for the current week by days:\n",
      "{'daily_activity_score': {Timestamp('2024-06-24 00:00:00'): 82, Timestamp('2024-06-25 00:00:00'): 84, Timestamp('2024-06-26 00:00:00'): 81}}\n",
      "\n",
      "Metric: daily_readiness_score_model\n",
      "\n",
      "Target metrics values for the current week by days:\n",
      "['daily_activity_low_activity_time', 'daily_readiness_resting_heart_rate', 'daily_readiness_previous_day_activity', 'daily_readiness_temperature_trend_deviation', 'daily_readiness_recovery_index', 'daily_activity_target_meters', 'daily_activity_target_calories', 'daily_activity_meet_daily_targets', 'daily_activity_equivalent_walking_distance', 'daily_stress_recovery_high']\n",
      "\n",
      "New features current week:\n",
      "{'daily_readiness_temperature_trend_deviation': {Timestamp('2024-06-24 00:00:00'): 0.15, Timestamp('2024-06-25 00:00:00'): -0.03, Timestamp('2024-06-26 00:00:00'): 0.16}, 'daily_stress_recovery_high': {Timestamp('2024-06-24 00:00:00'): 6300, Timestamp('2024-06-25 00:00:00'): 900, Timestamp('2024-06-26 00:00:00'): 0}, 'daily_readiness_recovery_index': {Timestamp('2024-06-24 00:00:00'): 58.0, Timestamp('2024-06-25 00:00:00'): 82.0, Timestamp('2024-06-26 00:00:00'): 52.0}, 'daily_activity_target_calories': {Timestamp('2024-06-24 00:00:00'): 600, Timestamp('2024-06-25 00:00:00'): 600, Timestamp('2024-06-26 00:00:00'): 400}, 'daily_activity_target_meters': {Timestamp('2024-06-24 00:00:00'): 12000, Timestamp('2024-06-25 00:00:00'): 12000, Timestamp('2024-06-26 00:00:00'): 8000}, 'daily_activity_meet_daily_targets': {Timestamp('2024-06-24 00:00:00'): 60, Timestamp('2024-06-25 00:00:00'): 60, Timestamp('2024-06-26 00:00:00'): 43}, 'daily_activity_equivalent_walking_distance': {Timestamp('2024-06-24 00:00:00'): 4461, Timestamp('2024-06-25 00:00:00'): 9729, Timestamp('2024-06-26 00:00:00'): 4254}, 'daily_readiness_resting_heart_rate': {Timestamp('2024-06-24 00:00:00'): 89.0, Timestamp('2024-06-25 00:00:00'): 89.0, Timestamp('2024-06-26 00:00:00'): 67.0}, 'daily_readiness_previous_day_activity': {Timestamp('2024-06-24 00:00:00'): 75.0, Timestamp('2024-06-25 00:00:00'): 92.0, Timestamp('2024-06-26 00:00:00'): 80.0}, 'daily_activity_low_activity_time': {Timestamp('2024-06-24 00:00:00'): 14460, Timestamp('2024-06-25 00:00:00'): 22260, Timestamp('2024-06-26 00:00:00'): 5100}}\n",
      "\n",
      "Current week feature values by days for current week:\n",
      "{'daily_readiness_temperature_trend_deviation': 0.07692307692307693, 'daily_stress_recovery_high': 0.057692307692307696, 'daily_readiness_recovery_index': 0.057692307692307696, 'daily_activity_target_calories': 0.057692307692307696, 'daily_activity_target_meters': 0.057692307692307696, 'daily_activity_meet_daily_targets': 0.038461538461538464, 'daily_activity_equivalent_walking_distance': 0.038461538461538464, 'daily_readiness_resting_heart_rate': 0.038461538461538464, 'daily_readiness_previous_day_activity': 0.038461538461538464, 'daily_activity_low_activity_time': 0.038461538461538464}\n",
      "\n",
      "Target metrics values for the current week by days:\n",
      "{'daily_readiness_score': {Timestamp('2024-06-24 00:00:00'): 70.0, Timestamp('2024-06-25 00:00:00'): 74.0, Timestamp('2024-06-26 00:00:00'): 67.0}}\n",
      "\n",
      "Metric: daily_stress_day_summary_model\n",
      "\n",
      "Target metrics values for the current week by days:\n",
      "['daily_activity_low_activity_time', 'daily_activity_medium_activity_met_minutes', 'daily_sleep_score', 'daily_activity_non_wear_time', 'daily_activity_inactivity_alerts', 'daily_activity_low_activity_met_minutes', 'daily_activity_medium_activity_time', 'daily_activity_meters_to_target', 'daily_activity_high_activity_time', 'daily_activity_sedentary_met_minutes']\n",
      "\n",
      "New features current week:\n",
      "{'daily_sleep_score': {Timestamp('2024-06-24 00:00:00'): 43.0, Timestamp('2024-06-25 00:00:00'): 41.0, Timestamp('2024-06-26 00:00:00'): 49.0}, 'daily_activity_sedentary_met_minutes': {Timestamp('2024-06-24 00:00:00'): 30, Timestamp('2024-06-25 00:00:00'): 30, Timestamp('2024-06-26 00:00:00'): 4}, 'daily_activity_high_activity_time': {Timestamp('2024-06-24 00:00:00'): 0, Timestamp('2024-06-25 00:00:00'): 1500, Timestamp('2024-06-26 00:00:00'): 0}, 'daily_activity_inactivity_alerts': {Timestamp('2024-06-24 00:00:00'): 1, Timestamp('2024-06-25 00:00:00'): 1, Timestamp('2024-06-26 00:00:00'): 0}, 'daily_activity_low_activity_met_minutes': {Timestamp('2024-06-24 00:00:00'): 133, Timestamp('2024-06-25 00:00:00'): 183, Timestamp('2024-06-26 00:00:00'): 54}, 'daily_activity_low_activity_time': {Timestamp('2024-06-24 00:00:00'): 14460, Timestamp('2024-06-25 00:00:00'): 22260, Timestamp('2024-06-26 00:00:00'): 5100}, 'daily_activity_medium_activity_met_minutes': {Timestamp('2024-06-24 00:00:00'): 89, Timestamp('2024-06-25 00:00:00'): 115, Timestamp('2024-06-26 00:00:00'): 135}, 'daily_activity_medium_activity_time': {Timestamp('2024-06-24 00:00:00'): 1620, Timestamp('2024-06-25 00:00:00'): 2100, Timestamp('2024-06-26 00:00:00'): 2460}, 'daily_activity_meters_to_target': {Timestamp('2024-06-24 00:00:00'): 5600, Timestamp('2024-06-25 00:00:00'): -1000, Timestamp('2024-06-26 00:00:00'): 3300}, 'daily_activity_non_wear_time': {Timestamp('2024-06-24 00:00:00'): 0, Timestamp('2024-06-25 00:00:00'): 1740, Timestamp('2024-06-26 00:00:00'): 3480}}\n",
      "\n",
      "Current week feature values by days for current week:\n",
      "{'daily_sleep_score': 0.0, 'daily_activity_sedentary_met_minutes': 0.0, 'daily_activity_high_activity_time': 0.0, 'daily_activity_inactivity_alerts': 0.0, 'daily_activity_low_activity_met_minutes': 0.0, 'daily_activity_low_activity_time': 0.0, 'daily_activity_medium_activity_met_minutes': 0.0, 'daily_activity_medium_activity_time': 0.0, 'daily_activity_meters_to_target': 0.0, 'daily_activity_non_wear_time': 0.0}\n",
      "\n",
      "Target metrics values for the current week by days:\n",
      "{'daily_stress_day_summary': {Timestamp('2024-06-24 00:00:00'): 0, Timestamp('2024-06-25 00:00:00'): 0, Timestamp('2024-06-26 00:00:00'): 0}}\n",
      "\n",
      "Metric: daily_sleep_score_model\n",
      "\n",
      "Target metrics values for the current week by days:\n",
      "['daily_readiness_resting_heart_rate', 'daily_activity_meters_to_target', 'daily_activity_resting_time', 'daily_activity_medium_activity_met_minutes', 'daily_readiness_temperature_trend_deviation', 'daily_activity_target_meters', 'daily_activity_target_calories', 'daily_readiness_recovery_index', 'daily_readiness_score', 'daily_stress_recovery_high']\n",
      "\n",
      "New features current week:\n",
      "{'daily_readiness_temperature_trend_deviation': {Timestamp('2024-06-24 00:00:00'): 0.15, Timestamp('2024-06-25 00:00:00'): -0.03, Timestamp('2024-06-26 00:00:00'): 0.16}, 'daily_activity_target_meters': {Timestamp('2024-06-24 00:00:00'): 12000, Timestamp('2024-06-25 00:00:00'): 12000, Timestamp('2024-06-26 00:00:00'): 8000}, 'daily_stress_recovery_high': {Timestamp('2024-06-24 00:00:00'): 6300, Timestamp('2024-06-25 00:00:00'): 900, Timestamp('2024-06-26 00:00:00'): 0}, 'daily_activity_target_calories': {Timestamp('2024-06-24 00:00:00'): 600, Timestamp('2024-06-25 00:00:00'): 600, Timestamp('2024-06-26 00:00:00'): 400}, 'daily_readiness_recovery_index': {Timestamp('2024-06-24 00:00:00'): 58.0, Timestamp('2024-06-25 00:00:00'): 82.0, Timestamp('2024-06-26 00:00:00'): 52.0}, 'daily_readiness_resting_heart_rate': {Timestamp('2024-06-24 00:00:00'): 89.0, Timestamp('2024-06-25 00:00:00'): 89.0, Timestamp('2024-06-26 00:00:00'): 67.0}, 'daily_activity_resting_time': {Timestamp('2024-06-24 00:00:00'): 25560, Timestamp('2024-06-25 00:00:00'): 24240, Timestamp('2024-06-26 00:00:00'): 20940}, 'daily_activity_meters_to_target': {Timestamp('2024-06-24 00:00:00'): 5600, Timestamp('2024-06-25 00:00:00'): -1000, Timestamp('2024-06-26 00:00:00'): 3300}, 'daily_activity_medium_activity_met_minutes': {Timestamp('2024-06-24 00:00:00'): 89, Timestamp('2024-06-25 00:00:00'): 115, Timestamp('2024-06-26 00:00:00'): 135}, 'daily_readiness_score': {Timestamp('2024-06-24 00:00:00'): 70.0, Timestamp('2024-06-25 00:00:00'): 74.0, Timestamp('2024-06-26 00:00:00'): 67.0}}\n",
      "\n",
      "Current week feature values by days for current week:\n",
      "{'daily_readiness_temperature_trend_deviation': 0.07692307692307693, 'daily_activity_target_meters': 0.057692307692307696, 'daily_stress_recovery_high': 0.057692307692307696, 'daily_activity_target_calories': 0.057692307692307696, 'daily_readiness_recovery_index': 0.057692307692307696, 'daily_readiness_resting_heart_rate': 0.038461538461538464, 'daily_activity_resting_time': 0.038461538461538464, 'daily_activity_meters_to_target': 0.038461538461538464, 'daily_activity_medium_activity_met_minutes': 0.038461538461538464, 'daily_readiness_score': 0.038461538461538464}\n",
      "\n",
      "Target metrics values for the current week by days:\n",
      "{'daily_sleep_score': {Timestamp('2024-06-24 00:00:00'): 43.0, Timestamp('2024-06-25 00:00:00'): 41.0, Timestamp('2024-06-26 00:00:00'): 49.0}}\n"
     ]
    }
   ],
   "source": [
    "last_month_results = {metric: get_current_week_data(importance_df, without_normalization_df, metric) for metric, importance_df in importance_dfs.items()}\n",
    "\n",
    "for metric, results in last_month_results.items():\n",
    "    print(f\"\\nMetric: {metric}\")\n",
    "    print(\"\\nTarget metrics values for the current week by days:\")\n",
    "    print(results['new_this_week'])\n",
    "    print(\"\\nNew features current week:\")\n",
    "    print(results['current_week_values'])\n",
    "    print(\"\\nCurrent week feature values by days for current week:\")\n",
    "    print(results['current_week_top_10'])\n",
    "    print(\"\\nTarget metrics values for the current week by days:\")\n",
    "    print(results['metric_current_week_values'])"
   ]
  },
  {
   "cell_type": "code",
   "execution_count": 72,
   "metadata": {},
   "outputs": [
    {
     "name": "stdout",
     "output_type": "stream",
     "text": [
      "[47 48 49 50 51 52  1  2  3  4  5  6  7  8  9 10 11 12 13 14 15 16 17 18\n",
      " 19 20 21 22 23 24 25 26]\n",
      "New features this week: {'daily_readiness_temperature_deviation', 'daily_activity_low_activity_time', 'daily_readiness_previous_night', 'daily_stress_stress_high', 'daily_activity_target_calories', 'daily_activity_target_meters', 'daily_activity_equivalent_walking_distance', 'daily_readiness_recovery_index', 'daily_activity_meters_to_target', 'daily_sleep_total_sleep'}\n",
      "[47 48 49 50 51 52  1  2  3  4  5  6  7  8  9 10 11 12 13 14 15 16 17 18\n",
      " 19 20 21 22 23 24 25 26]\n",
      "New features this week: {'daily_activity_low_activity_time', 'daily_readiness_resting_heart_rate', 'daily_readiness_previous_day_activity', 'daily_readiness_temperature_trend_deviation', 'daily_readiness_recovery_index', 'daily_activity_target_meters', 'daily_activity_target_calories', 'daily_activity_meet_daily_targets', 'daily_activity_equivalent_walking_distance', 'daily_stress_recovery_high'}\n",
      "[47 48 49 50 51 52  1  2  3  4  5  6  7  8  9 10 11 12 13 14 15 16 17 18\n",
      " 19 20 21 22 23 24 25 26]\n",
      "New features this week: {'daily_activity_low_activity_time', 'daily_activity_medium_activity_met_minutes', 'daily_sleep_score', 'daily_activity_non_wear_time', 'daily_activity_inactivity_alerts', 'daily_activity_low_activity_met_minutes', 'daily_activity_medium_activity_time', 'daily_activity_meters_to_target', 'daily_activity_high_activity_time', 'daily_activity_sedentary_met_minutes'}\n",
      "[47 48 49 50 51 52  1  2  3  4  5  6  7  8  9 10 11 12 13 14 15 16 17 18\n",
      " 19 20 21 22 23 24 25 26]\n",
      "New features this week: {'daily_readiness_resting_heart_rate', 'daily_activity_meters_to_target', 'daily_activity_resting_time', 'daily_activity_medium_activity_met_minutes', 'daily_readiness_temperature_trend_deviation', 'daily_activity_target_meters', 'daily_activity_target_calories', 'daily_readiness_recovery_index', 'daily_readiness_score', 'daily_stress_recovery_high'}\n",
      "\n",
      "Metric: daily_activity_score_model\n",
      "\n",
      "Target metrics values for the last week by days:\n"
     ]
    },
    {
     "ename": "KeyError",
     "evalue": "'metric_last_week_values'",
     "output_type": "error",
     "traceback": [
      "\u001b[0;31m---------------------------------------------------------------------------\u001b[0m",
      "\u001b[0;31mKeyError\u001b[0m                                  Traceback (most recent call last)",
      "Cell \u001b[0;32mIn[72], line 6\u001b[0m\n\u001b[1;32m      4\u001b[0m \u001b[38;5;28mprint\u001b[39m(\u001b[38;5;124mf\u001b[39m\u001b[38;5;124m\"\u001b[39m\u001b[38;5;130;01m\\n\u001b[39;00m\u001b[38;5;124mMetric: \u001b[39m\u001b[38;5;132;01m{\u001b[39;00mmetric\u001b[38;5;132;01m}\u001b[39;00m\u001b[38;5;124m\"\u001b[39m)\n\u001b[1;32m      5\u001b[0m \u001b[38;5;28mprint\u001b[39m(\u001b[38;5;124m\"\u001b[39m\u001b[38;5;130;01m\\n\u001b[39;00m\u001b[38;5;124mTarget metrics values for the last week by days:\u001b[39m\u001b[38;5;124m\"\u001b[39m)\n\u001b[0;32m----> 6\u001b[0m \u001b[38;5;28mprint\u001b[39m(\u001b[43mresults\u001b[49m\u001b[43m[\u001b[49m\u001b[38;5;124;43m'\u001b[39;49m\u001b[38;5;124;43mmetric_last_week_values\u001b[39;49m\u001b[38;5;124;43m'\u001b[39;49m\u001b[43m]\u001b[49m)\n\u001b[1;32m      7\u001b[0m \u001b[38;5;28mprint\u001b[39m(\u001b[38;5;124m\"\u001b[39m\u001b[38;5;130;01m\\n\u001b[39;00m\u001b[38;5;124mNew features last week:\u001b[39m\u001b[38;5;124m\"\u001b[39m)\n\u001b[1;32m      8\u001b[0m \u001b[38;5;28mprint\u001b[39m(results[\u001b[38;5;124m'\u001b[39m\u001b[38;5;124mnew_this_week\u001b[39m\u001b[38;5;124m'\u001b[39m])\n",
      "\u001b[0;31mKeyError\u001b[0m: 'metric_last_week_values'"
     ]
    }
   ],
   "source": [
    "last_month_results = {metric: get_last_week_data(importance_df, without_normalization_df, metric) for metric, importance_df in importance_dfs.items()}\n",
    "\n",
    "for metric, results in last_month_results.items():\n",
    "    print(f\"\\nMetric: {metric}\")\n",
    "    print(\"\\nTarget metrics values for the last week by days:\")\n",
    "    print(results['metric_last_week_values'])\n",
    "    print(\"\\nNew features last week:\")\n",
    "    print(results['new_this_week'])\n",
    "    print(\"\\nLast week feature values by days for last week:\")\n",
    "    print(results['last_week_values'])\n",
    "    print(\"\\nLast week top 10 features:\")\n",
    "    print(results['last_week_top_10'])"
   ]
  },
  {
   "cell_type": "code",
   "execution_count": 182,
   "metadata": {},
   "outputs": [
    {
     "name": "stdout",
     "output_type": "stream",
     "text": [
      "\n",
      "Metric: daily_activity_score_model\n",
      "\n",
      "New features this month:\n",
      "['daily_activity_resting_time', 'daily_activity_low_activity_met_minutes', 'daily_activity_meters_to_target']\n",
      "\n",
      "Last month mean feature values:\n",
      "{'daily_sleep_score': 52.80424528301887, 'daily_sleep_deep_sleep': 60.93901617250674, 'daily_sleep_efficiency': 71.41071428571429, 'daily_sleep_latency': 84.88982479784366, 'daily_sleep_rem_sleep': 43.91711590296495, 'daily_sleep_restfulness': 57.23180592991913, 'daily_sleep_timing': 2.6580188679245285, 'daily_sleep_total_sleep': 51.04885444743935, 'daily_readiness_score': 71.31502695417791, 'daily_readiness_temperature_deviation': -0.009969676549865225, 'daily_readiness_temperature_trend_deviation': 0.08834631008801623, 'daily_readiness_activity_balance': 79.67115902964959, 'daily_readiness_body_temperature': 88.36421832884096, 'daily_readiness_hrv_balance': 81.28294036061027, 'daily_readiness_previous_day_activity': 74.17688679245283, 'daily_readiness_previous_night': 51.025606469002696, 'daily_readiness_recovery_index': 74.51583557951483, 'daily_readiness_resting_heart_rate': 91.40464959568733, 'daily_readiness_sleep_balance': 48.05912508544088, 'daily_stress_stress_high': 9309.019933554817, 'daily_stress_recovery_high': 5605.714285714285, 'daily_stress_day_summary': -0.3196013289036545, 'daily_activity_score': 83.67857142857143, 'daily_activity_active_calories': 645.9642857142857, 'daily_activity_average_met_minutes': 1.6450892857142858, 'daily_activity_equivalent_walking_distance': 9852.714285714286, 'daily_activity_high_activity_met_minutes': 243.25, 'daily_activity_high_activity_time': 1635.0, 'daily_activity_inactivity_alerts': 0.32142857142857145, 'daily_activity_low_activity_met_minutes': 145.39285714285714, 'daily_activity_low_activity_time': 15413.57142857143, 'daily_activity_medium_activity_met_minutes': 106.35714285714286, 'daily_activity_medium_activity_time': 2029.2857142857142, 'daily_activity_meters_to_target': -1710.7142857142858, 'daily_activity_non_wear_time': 1669.2857142857142, 'daily_activity_resting_time': 24066.428571428572, 'daily_activity_sedentary_met_minutes': 27.071428571428573, 'daily_activity_sedentary_time': 38573.57142857143, 'daily_activity_steps': 10407.75, 'daily_activity_target_calories': 550.0, 'daily_activity_target_meters': 11107.142857142857, 'daily_activity_total_calories': 2862.5, 'daily_activity_meet_daily_targets': 93.28571428571429, 'daily_activity_move_every_hour': 97.96428571428571, 'daily_activity_recovery_time': 65.14285714285714, 'daily_activity_stay_active': 63.32142857142857, 'daily_activity_training_frequency': 99.28571428571429, 'daily_activity_training_volume': 99.5}\n",
      "\n",
      "Last month top 10 features:\n",
      "{'daily_activity_stay_active': 0.044086959063193695, 'daily_activity_sedentary_time': 0.042418472579832445, 'daily_readiness_hrv_balance': 0.04221184746884717, 'daily_readiness_previous_night': 0.04052417136126644, 'daily_activity_low_activity_time': 0.034851509088028344, 'daily_activity_high_activity_time': 0.03475337340300431, 'daily_activity_resting_time': 0.0328356908287746, 'daily_activity_low_activity_met_minutes': 0.0324525270542123, 'daily_activity_meters_to_target': 0.03169039907310431, 'daily_sleep_rem_sleep': 0.03162695432492867}\n",
      "\n",
      "Features consistently in top 20 for the last month:\n",
      "{'daily_activity_sedentary_time': 0.04113291206409584, 'daily_readiness_hrv_balance': 0.030899673593559766, 'daily_activity_low_activity_time': 0.039342628892247516, 'daily_activity_meters_to_target': 0.02293939671417821}\n",
      "\n",
      "Metric: daily_readiness_score_model\n",
      "\n",
      "New features this month:\n",
      "['daily_sleep_total_sleep', 'daily_readiness_recovery_index', 'daily_readiness_sleep_balance', 'daily_readiness_temperature_deviation', 'daily_readiness_temperature_trend_deviation']\n",
      "\n",
      "Last month mean feature values:\n",
      "{'daily_sleep_score': 52.80424528301887, 'daily_sleep_deep_sleep': 60.93901617250674, 'daily_sleep_efficiency': 71.41071428571429, 'daily_sleep_latency': 84.88982479784366, 'daily_sleep_rem_sleep': 43.91711590296495, 'daily_sleep_restfulness': 57.23180592991913, 'daily_sleep_timing': 2.6580188679245285, 'daily_sleep_total_sleep': 51.04885444743935, 'daily_readiness_score': 71.31502695417791, 'daily_readiness_temperature_deviation': -0.009969676549865225, 'daily_readiness_temperature_trend_deviation': 0.08834631008801623, 'daily_readiness_activity_balance': 79.67115902964959, 'daily_readiness_body_temperature': 88.36421832884096, 'daily_readiness_hrv_balance': 81.28294036061027, 'daily_readiness_previous_day_activity': 74.17688679245283, 'daily_readiness_previous_night': 51.025606469002696, 'daily_readiness_recovery_index': 74.51583557951483, 'daily_readiness_resting_heart_rate': 91.40464959568733, 'daily_readiness_sleep_balance': 48.05912508544088, 'daily_stress_stress_high': 9309.019933554817, 'daily_stress_recovery_high': 5605.714285714285, 'daily_stress_day_summary': -0.3196013289036545, 'daily_activity_score': 83.67857142857143, 'daily_activity_active_calories': 645.9642857142857, 'daily_activity_average_met_minutes': 1.6450892857142858, 'daily_activity_equivalent_walking_distance': 9852.714285714286, 'daily_activity_high_activity_met_minutes': 243.25, 'daily_activity_high_activity_time': 1635.0, 'daily_activity_inactivity_alerts': 0.32142857142857145, 'daily_activity_low_activity_met_minutes': 145.39285714285714, 'daily_activity_low_activity_time': 15413.57142857143, 'daily_activity_medium_activity_met_minutes': 106.35714285714286, 'daily_activity_medium_activity_time': 2029.2857142857142, 'daily_activity_meters_to_target': -1710.7142857142858, 'daily_activity_non_wear_time': 1669.2857142857142, 'daily_activity_resting_time': 24066.428571428572, 'daily_activity_sedentary_met_minutes': 27.071428571428573, 'daily_activity_sedentary_time': 38573.57142857143, 'daily_activity_steps': 10407.75, 'daily_activity_target_calories': 550.0, 'daily_activity_target_meters': 11107.142857142857, 'daily_activity_total_calories': 2862.5, 'daily_activity_meet_daily_targets': 93.28571428571429, 'daily_activity_move_every_hour': 97.96428571428571, 'daily_activity_recovery_time': 65.14285714285714, 'daily_activity_stay_active': 63.32142857142857, 'daily_activity_training_frequency': 99.28571428571429, 'daily_activity_training_volume': 99.5}\n",
      "\n",
      "Last month top 10 features:\n",
      "{'daily_activity_sedentary_time': 0.06379368125104327, 'daily_readiness_recovery_index': 0.0543714853087085, 'daily_readiness_temperature_trend_deviation': 0.04849674394785325, 'daily_activity_high_activity_time': 0.048046165976639126, 'daily_sleep_total_sleep': 0.03969231612105201, 'daily_readiness_previous_day_activity': 0.03954460563701974, 'daily_readiness_temperature_deviation': 0.03899583541638445, 'daily_stress_recovery_high': 0.03539515815067588, 'daily_readiness_sleep_balance': 0.032193908231988026, 'daily_activity_equivalent_walking_distance': 0.03199410085016211}\n",
      "\n",
      "Features consistently in top 20 for the last month:\n",
      "{'daily_sleep_total_sleep': 0.03295294440666046, 'daily_readiness_recovery_index': 0.029573130270168238, 'daily_activity_high_activity_time': 0.04023908202782513, 'daily_activity_sedentary_time': 0.03552412969866729, 'daily_readiness_temperature_trend_deviation': 0.03328736627508559}\n",
      "\n",
      "Metric: daily_stress_day_summary_model\n",
      "\n",
      "New features this month:\n",
      "['daily_activity_non_wear_time', 'daily_readiness_previous_day_activity', 'daily_activity_sedentary_time', 'daily_activity_resting_time', 'daily_sleep_restfulness']\n",
      "\n",
      "Last month mean feature values:\n",
      "{'daily_sleep_score': 52.80424528301887, 'daily_sleep_deep_sleep': 60.93901617250674, 'daily_sleep_efficiency': 71.41071428571429, 'daily_sleep_latency': 84.88982479784366, 'daily_sleep_rem_sleep': 43.91711590296495, 'daily_sleep_restfulness': 57.23180592991913, 'daily_sleep_timing': 2.6580188679245285, 'daily_sleep_total_sleep': 51.04885444743935, 'daily_readiness_score': 71.31502695417791, 'daily_readiness_temperature_deviation': -0.009969676549865225, 'daily_readiness_temperature_trend_deviation': 0.08834631008801623, 'daily_readiness_activity_balance': 79.67115902964959, 'daily_readiness_body_temperature': 88.36421832884096, 'daily_readiness_hrv_balance': 81.28294036061027, 'daily_readiness_previous_day_activity': 74.17688679245283, 'daily_readiness_previous_night': 51.025606469002696, 'daily_readiness_recovery_index': 74.51583557951483, 'daily_readiness_resting_heart_rate': 91.40464959568733, 'daily_readiness_sleep_balance': 48.05912508544088, 'daily_stress_stress_high': 9309.019933554817, 'daily_stress_recovery_high': 5605.714285714285, 'daily_stress_day_summary': -0.3196013289036545, 'daily_activity_score': 83.67857142857143, 'daily_activity_active_calories': 645.9642857142857, 'daily_activity_average_met_minutes': 1.6450892857142858, 'daily_activity_equivalent_walking_distance': 9852.714285714286, 'daily_activity_high_activity_met_minutes': 243.25, 'daily_activity_high_activity_time': 1635.0, 'daily_activity_inactivity_alerts': 0.32142857142857145, 'daily_activity_low_activity_met_minutes': 145.39285714285714, 'daily_activity_low_activity_time': 15413.57142857143, 'daily_activity_medium_activity_met_minutes': 106.35714285714286, 'daily_activity_medium_activity_time': 2029.2857142857142, 'daily_activity_meters_to_target': -1710.7142857142858, 'daily_activity_non_wear_time': 1669.2857142857142, 'daily_activity_resting_time': 24066.428571428572, 'daily_activity_sedentary_met_minutes': 27.071428571428573, 'daily_activity_sedentary_time': 38573.57142857143, 'daily_activity_steps': 10407.75, 'daily_activity_target_calories': 550.0, 'daily_activity_target_meters': 11107.142857142857, 'daily_activity_total_calories': 2862.5, 'daily_activity_meet_daily_targets': 93.28571428571429, 'daily_activity_move_every_hour': 97.96428571428571, 'daily_activity_recovery_time': 65.14285714285714, 'daily_activity_stay_active': 63.32142857142857, 'daily_activity_training_frequency': 99.28571428571429, 'daily_activity_training_volume': 99.5}\n",
      "\n",
      "Last month top 10 features:\n",
      "{'daily_activity_high_activity_time': 0.04314934099266513, 'daily_activity_non_wear_time': 0.04020387633402721, 'daily_activity_meters_to_target': 0.03873866451433778, 'daily_readiness_temperature_deviation': 0.03677184640743206, 'daily_readiness_previous_day_activity': 0.030539130777156004, 'daily_sleep_restfulness': 0.027964356647030234, 'daily_activity_resting_time': 0.02593741835711336, 'daily_activity_sedentary_time': 0.025810959670872068, 'daily_stress_stress_high': 0.025531433740388965, 'daily_activity_total_calories': 0.02479392962312941}\n",
      "\n",
      "Features consistently in top 20 for the last month:\n",
      "{'daily_activity_high_activity_time': 0.042048242342651525, 'daily_activity_non_wear_time': 0.019307273556083217, 'daily_activity_sedentary_time': 0.028837728943358423, 'daily_activity_meters_to_target': 0.02216490951876094}\n",
      "\n",
      "Metric: daily_sleep_score_model\n",
      "\n",
      "New features this month:\n",
      "['daily_readiness_recovery_index', 'daily_readiness_sleep_balance', 'daily_sleep_latency', 'daily_activity_resting_time', 'daily_activity_equivalent_walking_distance', 'daily_readiness_score']\n",
      "\n",
      "Last month mean feature values:\n",
      "{'daily_sleep_score': 52.80424528301887, 'daily_sleep_deep_sleep': 60.93901617250674, 'daily_sleep_efficiency': 71.41071428571429, 'daily_sleep_latency': 84.88982479784366, 'daily_sleep_rem_sleep': 43.91711590296495, 'daily_sleep_restfulness': 57.23180592991913, 'daily_sleep_timing': 2.6580188679245285, 'daily_sleep_total_sleep': 51.04885444743935, 'daily_readiness_score': 71.31502695417791, 'daily_readiness_temperature_deviation': -0.009969676549865225, 'daily_readiness_temperature_trend_deviation': 0.08834631008801623, 'daily_readiness_activity_balance': 79.67115902964959, 'daily_readiness_body_temperature': 88.36421832884096, 'daily_readiness_hrv_balance': 81.28294036061027, 'daily_readiness_previous_day_activity': 74.17688679245283, 'daily_readiness_previous_night': 51.025606469002696, 'daily_readiness_recovery_index': 74.51583557951483, 'daily_readiness_resting_heart_rate': 91.40464959568733, 'daily_readiness_sleep_balance': 48.05912508544088, 'daily_stress_stress_high': 9309.019933554817, 'daily_stress_recovery_high': 5605.714285714285, 'daily_stress_day_summary': -0.3196013289036545, 'daily_activity_score': 83.67857142857143, 'daily_activity_active_calories': 645.9642857142857, 'daily_activity_average_met_minutes': 1.6450892857142858, 'daily_activity_equivalent_walking_distance': 9852.714285714286, 'daily_activity_high_activity_met_minutes': 243.25, 'daily_activity_high_activity_time': 1635.0, 'daily_activity_inactivity_alerts': 0.32142857142857145, 'daily_activity_low_activity_met_minutes': 145.39285714285714, 'daily_activity_low_activity_time': 15413.57142857143, 'daily_activity_medium_activity_met_minutes': 106.35714285714286, 'daily_activity_medium_activity_time': 2029.2857142857142, 'daily_activity_meters_to_target': -1710.7142857142858, 'daily_activity_non_wear_time': 1669.2857142857142, 'daily_activity_resting_time': 24066.428571428572, 'daily_activity_sedentary_met_minutes': 27.071428571428573, 'daily_activity_sedentary_time': 38573.57142857143, 'daily_activity_steps': 10407.75, 'daily_activity_target_calories': 550.0, 'daily_activity_target_meters': 11107.142857142857, 'daily_activity_total_calories': 2862.5, 'daily_activity_meet_daily_targets': 93.28571428571429, 'daily_activity_move_every_hour': 97.96428571428571, 'daily_activity_recovery_time': 65.14285714285714, 'daily_activity_stay_active': 63.32142857142857, 'daily_activity_training_frequency': 99.28571428571429, 'daily_activity_training_volume': 99.5}\n",
      "\n",
      "Last month top 10 features:\n",
      "{'daily_activity_sedentary_time': 0.05551815486420938, 'daily_activity_resting_time': 0.05244450793386948, 'daily_readiness_recovery_index': 0.04843663976495846, 'daily_activity_high_activity_time': 0.04776990181184525, 'daily_readiness_sleep_balance': 0.03898127445579572, 'daily_readiness_score': 0.03766822052440438, 'daily_activity_equivalent_walking_distance': 0.03741126579062787, 'daily_sleep_latency': 0.03584788391344875, 'daily_readiness_previous_night': 0.035529698898820544, 'daily_readiness_previous_day_activity': 0.03462341901215446}\n",
      "\n",
      "Features consistently in top 20 for the last month:\n",
      "{'daily_readiness_recovery_index': 0.026637217019037034, 'daily_readiness_sleep_balance': 0.03424669157908818, 'daily_activity_high_activity_time': 0.0394909489200645, 'daily_sleep_latency': 0.029878026321561384, 'daily_activity_sedentary_time': 0.03842357566146443, 'daily_readiness_score': 0.026090002613629835}\n"
     ]
    }
   ],
   "source": [
    "last_month_results = {metric: get_last_month_data(importance_df, without_normalization_df) for metric, importance_df in importance_dfs.items()}\n",
    "\n",
    "for metric, results in last_month_results.items():\n",
    "    print(f\"\\nMetric: {metric}\")\n",
    "    print(\"\\nNew features this month:\")\n",
    "    print(results['new_this_month'])\n",
    "    print(\"\\nLast month mean feature values:\")\n",
    "    print(results['last_month_values'])\n",
    "    print(\"\\nLast month top 10 features:\")\n",
    "    print(results['last_month_top_10'])\n",
    "    print(\"\\nFeatures consistently in top 20 for the last month:\")\n",
    "    print(results['consistent_monthly_features'])"
   ]
  }
 ],
 "metadata": {
  "kernelspec": {
   "display_name": "Python 3",
   "language": "python",
   "name": "python3"
  },
  "language_info": {
   "codemirror_mode": {
    "name": "ipython",
    "version": 3
   },
   "file_extension": ".py",
   "mimetype": "text/x-python",
   "name": "python",
   "nbconvert_exporter": "python",
   "pygments_lexer": "ipython3",
   "version": "3.11.3"
  }
 },
 "nbformat": 4,
 "nbformat_minor": 2
}
