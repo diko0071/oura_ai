{
 "cells": [
  {
   "cell_type": "code",
   "execution_count": 31,
   "metadata": {},
   "outputs": [],
   "source": [
    "import pandas as pd\n",
    "import numpy as np\n",
    "import matplotlib.pyplot as plt\n",
    "import seaborn as sns\n",
    "from sklearn.ensemble import RandomForestRegressor\n",
    "from sklearn.model_selection import train_test_split\n",
    "from sklearn.preprocessing import StandardScaler\n",
    "from sklearn.impute import SimpleImputer"
   ]
  },
  {
   "cell_type": "code",
   "execution_count": 12,
   "metadata": {},
   "outputs": [
    {
     "data": {
      "text/plain": [
       "Index(['date', 'Sleep Score', 'Total Sleep Score', 'REM Sleep Score',\n",
       "       'Deep Sleep Score', 'Sleep Efficiency Score', 'Restfulness Score',\n",
       "       'Sleep Latency Score', 'Sleep Timin Score', 'Total Sleep Duration',\n",
       "       'Total Bedtime ', 'Awake Time', 'REM Sleep Duration',\n",
       "       'Light Sleep Duration', 'Deep Sleep Duration', 'Restless Sleep',\n",
       "       'Sleep Efficiency', 'Sleep Latency', 'Sleep Timing', 'Bedtime Start',\n",
       "       'Bedtime End', 'Average Resting Heart Rate',\n",
       "       'Lowest Resting Heart Rate', 'Average HRV',\n",
       "       'Temperature Deviation (°C)', 'Temperature Trend Deviation',\n",
       "       'Respiratory Rate', 'Activity Score', 'Stay Active Score',\n",
       "       'Move Every Hour Score', 'Meet Daily Targets Score',\n",
       "       'Training Frequency Score', 'Training Volume Score', 'Activity Burn',\n",
       "       'Total Burn', 'Steps', 'Equivalent Walking Distance', 'Inactive Time',\n",
       "       'Rest Time', 'Low Activity Time', 'Medium Activity Time',\n",
       "       'High Activity Time', 'Non-wear Time', 'Average MET',\n",
       "       'Long Periods of Inactivity', 'Readiness Score', 'Previous Night Score',\n",
       "       'Sleep Balance Score', 'Previous Day Activity Score',\n",
       "       'Activity Balance Score', 'Temperature Score',\n",
       "       'Resting Heart Rate Score', 'HRV Balance Score',\n",
       "       'Recovery Index Score'],\n",
       "      dtype='object')"
      ]
     },
     "execution_count": 12,
     "metadata": {},
     "output_type": "execute_result"
    }
   ],
   "source": [
    "df = pd.read_csv('/Users/dmitrykorzhov/Desktop/Root/projects/oura_ai/backend/oura_2024-04-16_2024-06-16_trends.csv')\n",
    "\n",
    "\n",
    "df.columns"
   ]
  },
  {
   "cell_type": "code",
   "execution_count": 7,
   "metadata": {},
   "outputs": [],
   "source": [
    "df['Total Sleep Duration'] = df['Total Sleep Duration'] / 3600"
   ]
  },
  {
   "cell_type": "code",
   "execution_count": 9,
   "metadata": {},
   "outputs": [
    {
     "data": {
      "image/png": "[encoded data removed]",
      "text/plain": [
       "<Figure size 640x480 with 1 Axes>"
      ]
     },
     "metadata": {},
     "output_type": "display_data"
    }
   ],
   "source": [
    "df['Total Sleep Duration']\n",
    "\n",
    "plt.figure()\n",
    "df['Total Sleep Duration'].hist()\n",
    "plt.show()"
   ]
  },
  {
   "cell_type": "code",
   "execution_count": 16,
   "metadata": {},
   "outputs": [
    {
     "data": {
      "image/png": "[encoded data removed]",
      "text/plain": [
       "<Figure size 640x480 with 1 Axes>"
      ]
     },
     "metadata": {},
     "output_type": "display_data"
    }
   ],
   "source": [
    "df['Sleep Score'] \n",
    "\n",
    "plt.figure()\n",
    "df['Sleep Score'].hist()\n",
    "plt.show()"
   ]
  },
  {
   "cell_type": "code",
   "execution_count": 22,
   "metadata": {},
   "outputs": [
    {
     "data": {
      "text/plain": [
       "Index(['Sleep Score', 'Total Sleep Score', 'REM Sleep Score',\n",
       "       'Deep Sleep Score', 'Sleep Efficiency Score', 'Restfulness Score',\n",
       "       'Sleep Latency Score', 'Sleep Timin Score', 'Total Sleep Duration',\n",
       "       'Total Bedtime ', 'Awake Time', 'REM Sleep Duration',\n",
       "       'Light Sleep Duration', 'Deep Sleep Duration', 'Restless Sleep',\n",
       "       'Sleep Efficiency', 'Sleep Latency', 'Sleep Timing',\n",
       "       'Average Resting Heart Rate', 'Lowest Resting Heart Rate',\n",
       "       'Average HRV', 'Temperature Deviation (°C)',\n",
       "       'Temperature Trend Deviation', 'Respiratory Rate', 'Activity Score',\n",
       "       'Stay Active Score', 'Move Every Hour Score',\n",
       "       'Meet Daily Targets Score', 'Training Frequency Score',\n",
       "       'Training Volume Score', 'Activity Burn', 'Total Burn', 'Steps',\n",
       "       'Equivalent Walking Distance', 'Inactive Time', 'Rest Time',\n",
       "       'Low Activity Time', 'Medium Activity Time', 'High Activity Time',\n",
       "       'Non-wear Time', 'Average MET', 'Long Periods of Inactivity',\n",
       "       'Readiness Score', 'Previous Night Score', 'Sleep Balance Score',\n",
       "       'Previous Day Activity Score', 'Activity Balance Score',\n",
       "       'Temperature Score', 'Resting Heart Rate Score', 'HRV Balance Score',\n",
       "       'Recovery Index Score'],\n",
       "      dtype='object')"
      ]
     },
     "execution_count": 22,
     "metadata": {},
     "output_type": "execute_result"
    }
   ],
   "source": [
    "df_numeric = df.select_dtypes(include=[np.number])\n",
    "\n",
    "df_numeric.columns"
   ]
  },
  {
   "cell_type": "code",
   "execution_count": 23,
   "metadata": {},
   "outputs": [],
   "source": [
    "correlation_matrix = df_numeric.corr()\n",
    "sleep_score_correlation = correlation_matrix['Sleep Score']\n",
    "sorted_correlations = sleep_score_correlation.sort_values(ascending=False)"
   ]
  },
  {
   "cell_type": "code",
   "execution_count": 24,
   "metadata": {},
   "outputs": [
    {
     "data": {
      "text/plain": [
       "Sleep Score                    1.000000\n",
       "Previous Night Score           0.999648\n",
       "Total Sleep Score              0.884100\n",
       "Total Sleep Duration           0.752950\n",
       "Sleep Timing                   0.700576\n",
       "Deep Sleep Score               0.648491\n",
       "Sleep Timin Score              0.589312\n",
       "Restless Sleep                 0.579636\n",
       "Sleep Balance Score            0.576709\n",
       "REM Sleep Score                0.565196\n",
       "Total Bedtime                  0.544649\n",
       "Rest Time                      0.524496\n",
       "Deep Sleep Duration            0.501970\n",
       "Light Sleep Duration           0.497119\n",
       "Medium Activity Time           0.469612\n",
       "REM Sleep Duration             0.463898\n",
       "Stay Active Score              0.454296\n",
       "Readiness Score                0.418651\n",
       "Temperature Deviation (°C)     0.417101\n",
       "Recovery Index Score           0.352164\n",
       "Steps                          0.252489\n",
       "Lowest Resting Heart Rate      0.246272\n",
       "Average Resting Heart Rate     0.244603\n",
       "Restfulness Score              0.234218\n",
       "Sleep Latency Score            0.219703\n",
       "Awake Time                     0.201417\n",
       "Activity Balance Score         0.169953\n",
       "Temperature Trend Deviation    0.164669\n",
       "Equivalent Walking Distance    0.163001\n",
       "Training Frequency Score       0.153979\n",
       "Activity Score                 0.145000\n",
       "Sleep Latency                  0.121148\n",
       "Long Periods of Inactivity     0.118333\n",
       "Activity Burn                  0.102241\n",
       "Sleep Efficiency Score         0.076922\n",
       "Respiratory Rate               0.065386\n",
       "HRV Balance Score              0.061176\n",
       "Non-wear Time                  0.050885\n",
       "Sleep Efficiency               0.031768\n",
       "Previous Day Activity Score    0.030899\n",
       "Total Burn                     0.010248\n",
       "Training Volume Score         -0.028402\n",
       "Average MET                   -0.034120\n",
       "High Activity Time            -0.061946\n",
       "Move Every Hour Score         -0.147818\n",
       "Average HRV                   -0.163016\n",
       "Resting Heart Rate Score      -0.242789\n",
       "Temperature Score             -0.262779\n",
       "Meet Daily Targets Score      -0.264994\n",
       "Low Activity Time             -0.308384\n",
       "Inactive Time                 -0.432836\n",
       "Name: Sleep Score, dtype: float64"
      ]
     },
     "execution_count": 24,
     "metadata": {},
     "output_type": "execute_result"
    }
   ],
   "source": [
    "sorted_correlations"
   ]
  },
  {
   "cell_type": "code",
   "execution_count": 25,
   "metadata": {},
   "outputs": [],
   "source": [
    "correlation_matrix = df_numeric.corr()\n",
    "sleep_score_correlation = correlation_matrix['Deep Sleep Score']\n",
    "sorted_correlations = sleep_score_correlation.sort_values(ascending=False)"
   ]
  },
  {
   "cell_type": "code",
   "execution_count": 26,
   "metadata": {},
   "outputs": [
    {
     "data": {
      "text/plain": [
       "Deep Sleep Score               1.000000\n",
       "Deep Sleep Duration            0.938598\n",
       "Previous Night Score           0.651263\n",
       "Sleep Score                    0.648491\n",
       "Total Sleep Score              0.607085\n",
       "Rest Time                      0.565313\n",
       "Sleep Timing                   0.533931\n",
       "Total Sleep Duration           0.522873\n",
       "Total Bedtime                  0.522170\n",
       "Sleep Balance Score            0.491460\n",
       "Awake Time                     0.401612\n",
       "Temperature Deviation (°C)     0.401505\n",
       "Respiratory Rate               0.398112\n",
       "Average Resting Heart Rate     0.390347\n",
       "Stay Active Score              0.361065\n",
       "Restless Sleep                 0.350884\n",
       "Recovery Index Score           0.321952\n",
       "REM Sleep Score                0.308376\n",
       "Activity Balance Score         0.289157\n",
       "Sleep Timin Score              0.288499\n",
       "Medium Activity Time           0.287732\n",
       "Lowest Resting Heart Rate      0.271586\n",
       "Readiness Score                0.259658\n",
       "REM Sleep Duration             0.253643\n",
       "Activity Score                 0.179257\n",
       "Training Frequency Score       0.178203\n",
       "Long Periods of Inactivity     0.171195\n",
       "Steps                          0.115753\n",
       "Sleep Latency                  0.067630\n",
       "Temperature Trend Deviation    0.064191\n",
       "Equivalent Walking Distance    0.063541\n",
       "Light Sleep Duration           0.050669\n",
       "Activity Burn                  0.030175\n",
       "Training Volume Score         -0.005934\n",
       "Total Burn                    -0.008531\n",
       "Previous Day Activity Score   -0.049950\n",
       "Sleep Latency Score           -0.066386\n",
       "High Activity Time            -0.071101\n",
       "HRV Balance Score             -0.079373\n",
       "Average MET                   -0.084988\n",
       "Non-wear Time                 -0.091707\n",
       "Restfulness Score             -0.102143\n",
       "Low Activity Time             -0.198311\n",
       "Move Every Hour Score         -0.224583\n",
       "Resting Heart Rate Score      -0.255692\n",
       "Sleep Efficiency              -0.262672\n",
       "Sleep Efficiency Score        -0.270462\n",
       "Average HRV                   -0.270856\n",
       "Meet Daily Targets Score      -0.279670\n",
       "Temperature Score             -0.285898\n",
       "Inactive Time                 -0.406057\n",
       "Name: Deep Sleep Score, dtype: float64"
      ]
     },
     "execution_count": 26,
     "metadata": {},
     "output_type": "execute_result"
    }
   ],
   "source": [
    "sorted_correlations"
   ]
  },
  {
   "cell_type": "code",
   "execution_count": 38,
   "metadata": {},
   "outputs": [],
   "source": [
    "X = df_numeric.drop('Total Sleep Score', axis = 1)\n",
    "imputer = SimpleImputer(strategy='mean')\n",
    "X = imputer.fit_transform(X)\n",
    "\n",
    "y = df_numeric['Total Sleep Score']\n",
    "y = imputer.fit_transform(y.values.reshape(-1,1)).ravel()\n",
    "\n",
    "X_train, X_test, y_train, y_test = train_test_split(X, y, test_size=0.2, random_state=42)"
   ]
  },
  {
   "cell_type": "code",
   "execution_count": 39,
   "metadata": {},
   "outputs": [],
   "source": [
    "scalar = StandardScaler()\n",
    "X_train = scalar.fit_transform(X_train)\n",
    "X_test = scalar.transform(X_test)"
   ]
  },
  {
   "cell_type": "code",
   "execution_count": 40,
   "metadata": {},
   "outputs": [
    {
     "data": {
      "text/html": [
       "<style>#sk-container-id-1 {color: black;}#sk-container-id-1 pre{padding: 0;}#sk-container-id-1 div.sk-toggleable {background-color: white;}#sk-container-id-1 label.sk-toggleable__label {cursor: pointer;display: block;width: 100%;margin-bottom: 0;padding: 0.3em;box-sizing: border-box;text-align: center;}#sk-container-id-1 label.sk-toggleable__label-arrow:before {content: \"▸\";float: left;margin-right: 0.25em;color: #696969;}#sk-container-id-1 label.sk-toggleable__label-arrow:hover:before {color: black;}#sk-container-id-1 div.sk-estimator:hover label.sk-toggleable__label-arrow:before {color: black;}#sk-container-id-1 div.sk-toggleable__content {max-height: 0;max-width: 0;overflow: hidden;text-align: left;background-color: #f0f8ff;}#sk-container-id-1 div.sk-toggleable__content pre {margin: 0.2em;color: black;border-radius: 0.25em;background-color: #f0f8ff;}#sk-container-id-1 input.sk-toggleable__control:checked~div.sk-toggleable__content {max-height: 200px;max-width: 100%;overflow: auto;}#sk-container-id-1 input.sk-toggleable__control:checked~label.sk-toggleable__label-arrow:before {content: \"▾\";}#sk-container-id-1 div.sk-estimator input.sk-toggleable__control:checked~label.sk-toggleable__label {background-color: #d4ebff;}#sk-container-id-1 div.sk-label input.sk-toggleable__control:checked~label.sk-toggleable__label {background-color: #d4ebff;}#sk-container-id-1 input.sk-hidden--visually {border: 0;clip: rect(1px 1px 1px 1px);clip: rect(1px, 1px, 1px, 1px);height: 1px;margin: -1px;overflow: hidden;padding: 0;position: absolute;width: 1px;}#sk-container-id-1 div.sk-estimator {font-family: monospace;background-color: #f0f8ff;border: 1px dotted black;border-radius: 0.25em;box-sizing: border-box;margin-bottom: 0.5em;}#sk-container-id-1 div.sk-estimator:hover {background-color: #d4ebff;}#sk-container-id-1 div.sk-parallel-item::after {content: \"\";width: 100%;border-bottom: 1px solid gray;flex-grow: 1;}#sk-container-id-1 div.sk-label:hover label.sk-toggleable__label {background-color: #d4ebff;}#sk-container-id-1 div.sk-serial::before {content: \"\";position: absolute;border-left: 1px solid gray;box-sizing: border-box;top: 0;bottom: 0;left: 50%;z-index: 0;}#sk-container-id-1 div.sk-serial {display: flex;flex-direction: column;align-items: center;background-color: white;padding-right: 0.2em;padding-left: 0.2em;position: relative;}#sk-container-id-1 div.sk-item {position: relative;z-index: 1;}#sk-container-id-1 div.sk-parallel {display: flex;align-items: stretch;justify-content: center;background-color: white;position: relative;}#sk-container-id-1 div.sk-item::before, #sk-container-id-1 div.sk-parallel-item::before {content: \"\";position: absolute;border-left: 1px solid gray;box-sizing: border-box;top: 0;bottom: 0;left: 50%;z-index: -1;}#sk-container-id-1 div.sk-parallel-item {display: flex;flex-direction: column;z-index: 1;position: relative;background-color: white;}#sk-container-id-1 div.sk-parallel-item:first-child::after {align-self: flex-end;width: 50%;}#sk-container-id-1 div.sk-parallel-item:last-child::after {align-self: flex-start;width: 50%;}#sk-container-id-1 div.sk-parallel-item:only-child::after {width: 0;}#sk-container-id-1 div.sk-dashed-wrapped {border: 1px dashed gray;margin: 0 0.4em 0.5em 0.4em;box-sizing: border-box;padding-bottom: 0.4em;background-color: white;}#sk-container-id-1 div.sk-label label {font-family: monospace;font-weight: bold;display: inline-block;line-height: 1.2em;}#sk-container-id-1 div.sk-label-container {text-align: center;}#sk-container-id-1 div.sk-container {/* jupyter's `normalize.less` sets `[hidden] { display: none; }` but bootstrap.min.css set `[hidden] { display: none !important; }` so we also need the `!important` here to be able to override the default hidden behavior on the sphinx rendered scikit-learn.org. See: https://github.com/scikit-learn/scikit-learn/issues/21755 */display: inline-block !important;position: relative;}#sk-container-id-1 div.sk-text-repr-fallback {display: none;}</style><div id=\"sk-container-id-1\" class=\"sk-top-container\"><div class=\"sk-text-repr-fallback\"><pre>RandomForestRegressor(random_state=42)</pre><b>In a Jupyter environment, please rerun this cell to show the HTML representation or trust the notebook. <br />On GitHub, the HTML representation is unable to render, please try loading this page with nbviewer.org.</b></div><div class=\"sk-container\" hidden><div class=\"sk-item\"><div class=\"sk-estimator sk-toggleable\"><input class=\"sk-toggleable__control sk-hidden--visually\" id=\"sk-estimator-id-1\" type=\"checkbox\" checked><label for=\"sk-estimator-id-1\" class=\"sk-toggleable__label sk-toggleable__label-arrow\">RandomForestRegressor</label><div class=\"sk-toggleable__content\"><pre>RandomForestRegressor(random_state=42)</pre></div></div></div></div></div>"
      ],
      "text/plain": [
       "RandomForestRegressor(random_state=42)"
      ]
     },
     "execution_count": 40,
     "metadata": {},
     "output_type": "execute_result"
    }
   ],
   "source": [
    "model = RandomForestRegressor(n_estimators=100, random_state=42)\n",
    "model.fit(X_train, y_train)"
   ]
  },
  {
   "cell_type": "code",
   "execution_count": 41,
   "metadata": {},
   "outputs": [
    {
     "name": "stdout",
     "output_type": "stream",
     "text": [
      "                        Feature  Importance\n",
      "7          Total Sleep Duration    0.568348\n",
      "16                 Sleep Timing    0.272687\n",
      "8                Total Bedtime     0.021766\n",
      "22             Respiratory Rate    0.017169\n",
      "42         Previous Night Score    0.014239\n",
      "0                   Sleep Score    0.013940\n",
      "13               Restless Sleep    0.010815\n",
      "11         Light Sleep Duration    0.010813\n",
      "19                  Average HRV    0.006860\n",
      "43          Sleep Balance Score    0.006481\n",
      "2              Deep Sleep Score    0.006173\n",
      "34                    Rest Time    0.006045\n",
      "47     Resting Heart Rate Score    0.003832\n",
      "10           REM Sleep Duration    0.003346\n",
      "48            HRV Balance Score    0.003094\n",
      "5           Sleep Latency Score    0.002851\n",
      "23               Activity Score    0.002693\n",
      "20   Temperature Deviation (°C)    0.002658\n",
      "36         Medium Activity Time    0.002531\n",
      "41              Readiness Score    0.001823\n",
      "33                Inactive Time    0.001757\n",
      "6             Sleep Timin Score    0.001572\n",
      "45       Activity Balance Score    0.001421\n",
      "9                    Awake Time    0.001266\n",
      "35            Low Activity Time    0.001206\n",
      "4             Restfulness Score    0.001158\n",
      "29                Activity Burn    0.001078\n",
      "1               REM Sleep Score    0.001050\n",
      "15                Sleep Latency    0.000985\n",
      "24            Stay Active Score    0.000927\n",
      "32  Equivalent Walking Distance    0.000851\n",
      "21  Temperature Trend Deviation    0.000832\n",
      "14             Sleep Efficiency    0.000831\n",
      "12          Deep Sleep Duration    0.000821\n",
      "31                        Steps    0.000745\n",
      "44  Previous Day Activity Score    0.000744\n",
      "17   Average Resting Heart Rate    0.000569\n",
      "40   Long Periods of Inactivity    0.000558\n",
      "25        Move Every Hour Score    0.000557\n",
      "38                Non-wear Time    0.000521\n",
      "46            Temperature Score    0.000484\n",
      "39                  Average MET    0.000463\n",
      "3        Sleep Efficiency Score    0.000391\n",
      "30                   Total Burn    0.000321\n",
      "18    Lowest Resting Heart Rate    0.000242\n",
      "37           High Activity Time    0.000221\n",
      "26     Meet Daily Targets Score    0.000164\n",
      "28        Training Volume Score    0.000051\n",
      "49         Recovery Index Score    0.000047\n",
      "27     Training Frequency Score    0.000002\n"
     ]
    }
   ],
   "source": [
    "feature_importances = model.feature_importances_\n",
    "importance_df = pd.DataFrame({\n",
    "    'Feature': df_numeric.columns.drop('Total Sleep Score'),\n",
    "    'Importance': feature_importances\n",
    "})\n",
    "print(importance_df.sort_values(by='Importance', ascending=False))"
   ]
  },
  {
   "cell_type": "code",
   "execution_count": 42,
   "metadata": {},
   "outputs": [
    {
     "data": {
      "text/html": [
       "<style>#sk-container-id-2 {color: black;}#sk-container-id-2 pre{padding: 0;}#sk-container-id-2 div.sk-toggleable {background-color: white;}#sk-container-id-2 label.sk-toggleable__label {cursor: pointer;display: block;width: 100%;margin-bottom: 0;padding: 0.3em;box-sizing: border-box;text-align: center;}#sk-container-id-2 label.sk-toggleable__label-arrow:before {content: \"▸\";float: left;margin-right: 0.25em;color: #696969;}#sk-container-id-2 label.sk-toggleable__label-arrow:hover:before {color: black;}#sk-container-id-2 div.sk-estimator:hover label.sk-toggleable__label-arrow:before {color: black;}#sk-container-id-2 div.sk-toggleable__content {max-height: 0;max-width: 0;overflow: hidden;text-align: left;background-color: #f0f8ff;}#sk-container-id-2 div.sk-toggleable__content pre {margin: 0.2em;color: black;border-radius: 0.25em;background-color: #f0f8ff;}#sk-container-id-2 input.sk-toggleable__control:checked~div.sk-toggleable__content {max-height: 200px;max-width: 100%;overflow: auto;}#sk-container-id-2 input.sk-toggleable__control:checked~label.sk-toggleable__label-arrow:before {content: \"▾\";}#sk-container-id-2 div.sk-estimator input.sk-toggleable__control:checked~label.sk-toggleable__label {background-color: #d4ebff;}#sk-container-id-2 div.sk-label input.sk-toggleable__control:checked~label.sk-toggleable__label {background-color: #d4ebff;}#sk-container-id-2 input.sk-hidden--visually {border: 0;clip: rect(1px 1px 1px 1px);clip: rect(1px, 1px, 1px, 1px);height: 1px;margin: -1px;overflow: hidden;padding: 0;position: absolute;width: 1px;}#sk-container-id-2 div.sk-estimator {font-family: monospace;background-color: #f0f8ff;border: 1px dotted black;border-radius: 0.25em;box-sizing: border-box;margin-bottom: 0.5em;}#sk-container-id-2 div.sk-estimator:hover {background-color: #d4ebff;}#sk-container-id-2 div.sk-parallel-item::after {content: \"\";width: 100%;border-bottom: 1px solid gray;flex-grow: 1;}#sk-container-id-2 div.sk-label:hover label.sk-toggleable__label {background-color: #d4ebff;}#sk-container-id-2 div.sk-serial::before {content: \"\";position: absolute;border-left: 1px solid gray;box-sizing: border-box;top: 0;bottom: 0;left: 50%;z-index: 0;}#sk-container-id-2 div.sk-serial {display: flex;flex-direction: column;align-items: center;background-color: white;padding-right: 0.2em;padding-left: 0.2em;position: relative;}#sk-container-id-2 div.sk-item {position: relative;z-index: 1;}#sk-container-id-2 div.sk-parallel {display: flex;align-items: stretch;justify-content: center;background-color: white;position: relative;}#sk-container-id-2 div.sk-item::before, #sk-container-id-2 div.sk-parallel-item::before {content: \"\";position: absolute;border-left: 1px solid gray;box-sizing: border-box;top: 0;bottom: 0;left: 50%;z-index: -1;}#sk-container-id-2 div.sk-parallel-item {display: flex;flex-direction: column;z-index: 1;position: relative;background-color: white;}#sk-container-id-2 div.sk-parallel-item:first-child::after {align-self: flex-end;width: 50%;}#sk-container-id-2 div.sk-parallel-item:last-child::after {align-self: flex-start;width: 50%;}#sk-container-id-2 div.sk-parallel-item:only-child::after {width: 0;}#sk-container-id-2 div.sk-dashed-wrapped {border: 1px dashed gray;margin: 0 0.4em 0.5em 0.4em;box-sizing: border-box;padding-bottom: 0.4em;background-color: white;}#sk-container-id-2 div.sk-label label {font-family: monospace;font-weight: bold;display: inline-block;line-height: 1.2em;}#sk-container-id-2 div.sk-label-container {text-align: center;}#sk-container-id-2 div.sk-container {/* jupyter's `normalize.less` sets `[hidden] { display: none; }` but bootstrap.min.css set `[hidden] { display: none !important; }` so we also need the `!important` here to be able to override the default hidden behavior on the sphinx rendered scikit-learn.org. See: https://github.com/scikit-learn/scikit-learn/issues/21755 */display: inline-block !important;position: relative;}#sk-container-id-2 div.sk-text-repr-fallback {display: none;}</style><div id=\"sk-container-id-2\" class=\"sk-top-container\"><div class=\"sk-text-repr-fallback\"><pre>RandomForestRegressor(random_state=42)</pre><b>In a Jupyter environment, please rerun this cell to show the HTML representation or trust the notebook. <br />On GitHub, the HTML representation is unable to render, please try loading this page with nbviewer.org.</b></div><div class=\"sk-container\" hidden><div class=\"sk-item\"><div class=\"sk-estimator sk-toggleable\"><input class=\"sk-toggleable__control sk-hidden--visually\" id=\"sk-estimator-id-2\" type=\"checkbox\" checked><label for=\"sk-estimator-id-2\" class=\"sk-toggleable__label sk-toggleable__label-arrow\">RandomForestRegressor</label><div class=\"sk-toggleable__content\"><pre>RandomForestRegressor(random_state=42)</pre></div></div></div></div></div>"
      ],
      "text/plain": [
       "RandomForestRegressor(random_state=42)"
      ]
     },
     "execution_count": 42,
     "metadata": {},
     "output_type": "execute_result"
    }
   ],
   "source": [
    "X = df_numeric.drop('Total Sleep Duration', axis = 1)\n",
    "imputer = SimpleImputer(strategy='mean')\n",
    "X = imputer.fit_transform(X)\n",
    "\n",
    "y = df_numeric['Total Sleep Duration']\n",
    "y = imputer.fit_transform(y.values.reshape(-1,1)).ravel()\n",
    "\n",
    "X_train, X_test, y_train, y_test = train_test_split(X, y, test_size=0.2, random_state=42)\n",
    "\n",
    "\n",
    "scalar = StandardScaler()\n",
    "X_train = scalar.fit_transform(X_train)\n",
    "X_test = scalar.transform(X_test)\n",
    "\n",
    "\n",
    "model = RandomForestRegressor(n_estimators=100, random_state=42)\n",
    "model.fit(X_train, y_train)"
   ]
  },
  {
   "cell_type": "code",
   "execution_count": 43,
   "metadata": {},
   "outputs": [
    {
     "name": "stdout",
     "output_type": "stream",
     "text": [
      "                        Feature  Importance\n",
      "1               REM Sleep Score    0.671334\n",
      "16                 Sleep Timing    0.207302\n",
      "8                Total Bedtime     0.040471\n",
      "0                   Sleep Score    0.009102\n",
      "42         Previous Night Score    0.007612\n",
      "11         Light Sleep Duration    0.006983\n",
      "13               Restless Sleep    0.004567\n",
      "22             Respiratory Rate    0.004148\n",
      "48            HRV Balance Score    0.003955\n",
      "34                    Rest Time    0.003675\n",
      "20   Temperature Deviation (°C)    0.003099\n",
      "36         Medium Activity Time    0.002771\n",
      "23               Activity Score    0.002640\n",
      "15                Sleep Latency    0.002307\n",
      "49         Recovery Index Score    0.001961\n",
      "41              Readiness Score    0.001831\n",
      "5           Sleep Latency Score    0.001628\n",
      "19                  Average HRV    0.001575\n",
      "10           REM Sleep Duration    0.001433\n",
      "21  Temperature Trend Deviation    0.001425\n",
      "24            Stay Active Score    0.001387\n",
      "38                Non-wear Time    0.001212\n",
      "30                   Total Burn    0.001187\n",
      "3        Sleep Efficiency Score    0.001180\n",
      "25        Move Every Hour Score    0.001171\n",
      "33                Inactive Time    0.001159\n",
      "47     Resting Heart Rate Score    0.001094\n",
      "14             Sleep Efficiency    0.000996\n",
      "45       Activity Balance Score    0.000994\n",
      "9                    Awake Time    0.000951\n",
      "2              Deep Sleep Score    0.000925\n",
      "44  Previous Day Activity Score    0.000878\n",
      "35            Low Activity Time    0.000820\n",
      "43          Sleep Balance Score    0.000744\n",
      "31                        Steps    0.000703\n",
      "39                  Average MET    0.000644\n",
      "7          Total Sleep Duration    0.000627\n",
      "37           High Activity Time    0.000547\n",
      "26     Meet Daily Targets Score    0.000501\n",
      "29                Activity Burn    0.000486\n",
      "4             Restfulness Score    0.000369\n",
      "32  Equivalent Walking Distance    0.000306\n",
      "46            Temperature Score    0.000295\n",
      "17   Average Resting Heart Rate    0.000292\n",
      "6             Sleep Timin Score    0.000265\n",
      "18    Lowest Resting Heart Rate    0.000241\n",
      "12          Deep Sleep Duration    0.000172\n",
      "40   Long Periods of Inactivity    0.000018\n",
      "28        Training Volume Score    0.000016\n",
      "27     Training Frequency Score    0.000000\n"
     ]
    }
   ],
   "source": [
    "feature_importances = model.feature_importances_\n",
    "importance_df = pd.DataFrame({\n",
    "    'Feature': df_numeric.columns.drop('Total Sleep Score'),\n",
    "    'Importance': feature_importances\n",
    "})\n",
    "print(importance_df.sort_values(by='Importance', ascending=False))"
   ]
  }
 ],
 "metadata": {
  "kernelspec": {
   "display_name": "Python 3",
   "language": "python",
   "name": "python3"
  },
  "language_info": {
   "codemirror_mode": {
    "name": "ipython",
    "version": 3
   },
   "file_extension": ".py",
   "mimetype": "text/x-python",
   "name": "python",
   "nbconvert_exporter": "python",
   "pygments_lexer": "ipython3",
   "version": "3.11.3"
  }
 },
 "nbformat": 4,
 "nbformat_minor": 2
}
