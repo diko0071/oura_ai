{
 "cells": [
  {
   "cell_type": "code",
   "execution_count": 1,
   "metadata": {},
   "outputs": [],
   "source": [
    "import pandas as pd\n",
    "import numpy as np\n",
    "import matplotlib.pyplot as plt\n",
    "import seaborn as sns\n",
    "from sklearn.ensemble import RandomForestRegressor\n",
    "from sklearn.model_selection import train_test_split\n",
    "from sklearn.preprocessing import StandardScaler\n",
    "from sklearn.impute import SimpleImputer\n",
    "import torch\n",
    "from torch.utils.data import TensorDataset, DataLoader\n",
    "import os \n",
    "import requests\n",
    "from datetime import datetime\n",
    "import pandas as pd\n",
    "from sklearn.preprocessing import StandardScaler\n",
    "from sklearn.model_selection import cross_val_score\n",
    "import pickle\n",
    "from sklearn.metrics import mean_squared_error, mean_absolute_error, r2_score"
   ]
  },
  {
   "cell_type": "markdown",
   "metadata": {},
   "source": [
    "## Load"
   ]
  },
  {
   "cell_type": "code",
   "execution_count": 2,
   "metadata": {},
   "outputs": [],
   "source": [
    "url = 'https://api.ouraring.com/v2/usercollection/daily_stress' \n",
    "params={ \n",
    "    'start_date': '2021-11-01', \n",
    "    'end_date': '2024-12-01' \n",
    "}\n",
    "headers = { \n",
    "  'Authorization': f'Bearer {os.getenv(\"OURA_TOKEN\")}' \n",
    "}\n",
    "response = requests.request('GET', url, headers=headers, params=params) \n",
    "data = response.json()['data']"
   ]
  },
  {
   "cell_type": "code",
   "execution_count": 3,
   "metadata": {},
   "outputs": [],
   "source": [
    "def get_data(api):\n",
    "    url = f'https://api.ouraring.com/v2/usercollection/{api}'\n",
    "    headers = { \n",
    "        'Authorization': f'Bearer {os.getenv(\"OURA_TOKEN\")}' \n",
    "    }\n",
    "    response = requests.request('GET', url, headers=headers, params=params) \n",
    "    data = response.json()['data']\n",
    "\n",
    "    rows = []\n",
    "\n",
    "    for item in data: \n",
    "        row = item.copy()\n",
    "\n",
    "        if 'contributors' in item:\n",
    "            row.update(item['contributors'])\n",
    "            del row['contributors']\n",
    "        \n",
    "        rows.append(row)\n",
    "    \n",
    "    return rows\n",
    "\n",
    "\n",
    "def aggregate_data(apis):\n",
    "    combined_df = pd.DataFrame()\n",
    "\n",
    "    for api in apis:\n",
    "        data = get_data(api)\n",
    "        df = pd.DataFrame(data)\n",
    "        df['day'] = pd.to_datetime(df['day']).dt.date\n",
    "        df = df.set_index('day')\n",
    "        df.columns = [f'{api}_{col}' for col in df.columns]\n",
    "        \n",
    "        if combined_df.empty:\n",
    "            combined_df = df\n",
    "        else:\n",
    "            combined_df = combined_df.join(df, how='outer')\n",
    "    \n",
    "    combined_df = combined_df.reset_index()\n",
    "\n",
    "    return combined_df"
   ]
  },
  {
   "cell_type": "code",
   "execution_count": 4,
   "metadata": {},
   "outputs": [],
   "source": [
    "api = [\n",
    "    'daily_sleep',\n",
    "    'daily_readiness',\n",
    "    'daily_stress',\n",
    "    'daily_activity',\n",
    "]\n",
    "aggregated_data = aggregate_data(api)"
   ]
  },
  {
   "cell_type": "markdown",
   "metadata": {},
   "source": [
    "## Normalization"
   ]
  },
  {
   "cell_type": "code",
   "execution_count": 5,
   "metadata": {},
   "outputs": [],
   "source": [
    "day_summary_mapping = {\n",
    "    'restored': 1,\n",
    "    'normal': 0,\n",
    "    'stressful': -1,\n",
    "    None: 0\n",
    "}\n",
    "aggregated_data['daily_stress_day_summary'] = aggregated_data['daily_stress_day_summary'].map(day_summary_mapping)\n",
    "\n",
    "aggregated_data['week'] = pd.to_datetime(aggregated_data['day']).dt.isocalendar().week"
   ]
  },
  {
   "cell_type": "code",
   "execution_count": 6,
   "metadata": {},
   "outputs": [],
   "source": [
    "columns_to_drop = ['daily_sleep_id', 'daily_sleep_timestamp', 'daily_readiness_id', \n",
    "                   'daily_readiness_timestamp', 'daily_stress_id', 'daily_activity_id', \n",
    "                   'daily_activity_timestamp', 'daily_activity_met', 'daily_activity_class_5_min']\n",
    "\n",
    "aggregated_data = aggregated_data.drop(columns=[col for col in columns_to_drop if col in aggregated_data.columns])"
   ]
  },
  {
   "cell_type": "code",
   "execution_count": 7,
   "metadata": {},
   "outputs": [],
   "source": [
    "aggregated_data = aggregated_data.dropna(axis=1, how='all')\n",
    "numeric_columns = aggregated_data.select_dtypes(include=['float64', 'int64'])\n",
    "aggregated_data[numeric_columns.columns] = numeric_columns.fillna(numeric_columns.mean())"
   ]
  },
  {
   "cell_type": "code",
   "execution_count": 8,
   "metadata": {},
   "outputs": [],
   "source": [
    "scaler = StandardScaler()\n",
    "aggregated_data[numeric_columns.columns] = scaler.fit_transform(numeric_columns)"
   ]
  },
  {
   "cell_type": "code",
   "execution_count": 9,
   "metadata": {},
   "outputs": [],
   "source": [
    "aggregated_data.to_csv('D:\\Root\\projects\\oura_ai\\backend\\aggregated_data.csv')"
   ]
  },
  {
   "cell_type": "markdown",
   "metadata": {},
   "source": [
    "## Model "
   ]
  },
  {
   "cell_type": "code",
   "execution_count": 10,
   "metadata": {},
   "outputs": [],
   "source": [
    "def train_model(df, target):\n",
    "    weeks = df['week'].unique()\n",
    "    imputer_X = SimpleImputer(strategy='mean')\n",
    "    imputer_y = SimpleImputer(strategy='mean')\n",
    "    models = {}\n",
    "\n",
    "    for week in weeks:\n",
    "        df_week = df[df['week'] == week]\n",
    "        if df_week.empty:\n",
    "            continue\n",
    "        \n",
    "        X_week = df_week.drop(columns=[target, 'day', 'week'], errors='ignore')\n",
    "        X_week = X_week.select_dtypes(include=[float, int])\n",
    "        \n",
    "        if X_week.empty or X_week.shape[0] == 0 or X_week.shape[1] == 0:\n",
    "            continue\n",
    "        \n",
    "        X_week = X_week.dropna(axis=1, how='all')\n",
    "        imputed_data = imputer_X.fit_transform(X_week)\n",
    "        X_week = pd.DataFrame(imputed_data, columns=X_week.columns)\n",
    "        \n",
    "        y_week = df_week[target]\n",
    "        if y_week.empty or len(y_week) == 0:\n",
    "            continue\n",
    "        \n",
    "        imputer_y.fit(y_week.values.reshape(-1, 1))\n",
    "        y_week = pd.Series(imputer_y.transform(y_week.values.reshape(-1, 1)).flatten())\n",
    "        \n",
    "        X_train, X_test, y_train, y_test = train_test_split(X_week, y_week, test_size=0.2, random_state=42)\n",
    "        \n",
    "        model = RandomForestRegressor(n_estimators=100, random_state=42)\n",
    "        model.fit(X_train, y_train)\n",
    "        \n",
    "        models[week] = {'model': model, 'X_test': X_test, 'y_test': y_test, 'X_columns': X_week.columns}\n",
    "    \n",
    "    return models"
   ]
  },
  {
   "cell_type": "code",
   "execution_count": 11,
   "metadata": {},
   "outputs": [],
   "source": [
    "def evaluate_model(models):\n",
    "    weekly_metrics = []\n",
    "\n",
    "    for week, data in models.items():\n",
    "        model = data['model']\n",
    "        X_test = data['X_test']\n",
    "        y_test = data['y_test']\n",
    "        \n",
    "        y_pred = model.predict(X_test)\n",
    "        \n",
    "        mse = mean_squared_error(y_test, y_pred)\n",
    "        mae = mean_absolute_error(y_test, y_pred)\n",
    "        r2 = r2_score(y_test, y_pred)\n",
    "        \n",
    "        weekly_metrics.append({'week': week, 'MSE': mse, 'MAE': mae, 'R2': r2})\n",
    "    \n",
    "    return weekly_metrics"
   ]
  },
  {
   "cell_type": "code",
   "execution_count": 12,
   "metadata": {},
   "outputs": [],
   "source": [
    "def compute_feature_importances(models):\n",
    "    weekly_importances = []\n",
    "\n",
    "    for week, data in models.items():\n",
    "        model = data['model']\n",
    "        X_test = data['X_test']\n",
    "        \n",
    "        importances = model.feature_importances_\n",
    "        feature_importance = pd.DataFrame({'feature': X_test.columns, 'importance': importances, 'week': week})\n",
    "        weekly_importances.append(feature_importance)\n",
    "    \n",
    "    if weekly_importances:\n",
    "        weekly_importances_df = pd.concat(weekly_importances, ignore_index=True)\n",
    "        return weekly_importances_df\n",
    "    else:\n",
    "        return pd.DataFrame(columns=['feature', 'importance', 'week'])"
   ]
  },
  {
   "cell_type": "code",
   "execution_count": 13,
   "metadata": {},
   "outputs": [],
   "source": [
    "def analyze_feature_importance(importance_df):\n",
    "    weeks = importance_df['week'].unique()\n",
    "    last_week = weeks.max()\n",
    "    previous_week = weeks[-2] if len(weeks) > 1 else last_week\n",
    "\n",
    "    last_month_weeks = weeks[-4:-1]\n",
    "    last_3months_weeks = weeks[-12:]\n",
    "\n",
    "    last_week_top_10 = importance_df[importance_df['week'] == last_week].sort_values(by='importance', ascending=False).head(10)\n",
    "    previous_week_top_10 = importance_df[importance_df['week'] == previous_week].sort_values(by='importance', ascending=False).head(10)\n",
    "    last_month_top_10 = importance_df[importance_df['week'].isin(last_month_weeks)].groupby('feature')['importance'].mean().sort_values(ascending=False).head(10)\n",
    "    last_3months_top_10 = importance_df[importance_df['week'].isin(last_3months_weeks)].groupby('feature')['importance'].mean().sort_values(ascending=False).head(10)\n",
    "\n",
    "    consistent_monthly_features = set.intersection(*[set(importance_df[importance_df['week'] == week].sort_values(by='importance', ascending=False).head(20)['feature']) for week in last_month_weeks])\n",
    "    consistent_3months_features = set.intersection(*[set(importance_df[importance_df['week'] == week].sort_values(by='importance', ascending=False).head(20)['feature']) for week in last_3months_weeks])\n",
    "\n",
    "    new_this_week = set(last_week_top_10['feature']) - set(previous_week_top_10['feature'])\n",
    "    new_this_month = set(last_week_top_10['feature']) - set(last_month_top_10.index)\n",
    "\n",
    "    results = {\n",
    "        'last_week_top_10': last_week_top_10.set_index('feature')['importance'].to_dict(),\n",
    "        'last_month_top_10': last_month_top_10.to_dict(),\n",
    "        'last_3months_top_10': last_3months_top_10.to_dict(),\n",
    "        'consistent_monthly_features': {feature: importance_df[importance_df['feature'] == feature]['importance'].mean() for feature in consistent_monthly_features},\n",
    "        'consistent_3months_features': {feature: importance_df[importance_df['feature'] == feature]['importance'].mean() for feature in consistent_3months_features},\n",
    "        'new_this_week': list(new_this_week),\n",
    "        'new_this_month': list(new_this_month),\n",
    "    }\n",
    "    \n",
    "    return results"
   ]
  },
  {
   "cell_type": "code",
   "execution_count": 14,
   "metadata": {},
   "outputs": [],
   "source": [
    "def load_models(metrics, directory):\n",
    "    loaded_models = {}\n",
    "    for metric in metrics:\n",
    "        with open(os.path.join(directory, f'{metric}_model.pkl'), 'rb') as f:\n",
    "            loaded_models[metric + \"_model\"] = pickle.load(f)\n",
    "    return loaded_models"
   ]
  },
  {
   "cell_type": "code",
   "execution_count": 16,
   "metadata": {},
   "outputs": [],
   "source": [
    "metrics = ['daily_activity_score', 'daily_readiness_score', 'daily_stress_day_summary', 'daily_sleep_score']"
   ]
  },
  {
   "cell_type": "code",
   "execution_count": 324,
   "metadata": {},
   "outputs": [],
   "source": [
    "models = {}\n",
    "\n",
    "for metric in metrics:\n",
    "    models[metric] = train_model(aggregated_data, metric)\n",
    "\n",
    "save_dir = '/Users/dmitrykorzhov/Desktop/Root/projects/oura_ai/backend/ml_models'\n",
    "\n",
    "for metric, model in models.items():\n",
    "    with open(os.path.join(save_dir, f'{metric}_model.pkl'), 'wb') as f:\n",
    "        pickle.dump(model, f)"
   ]
  },
  {
   "cell_type": "code",
   "execution_count": 17,
   "metadata": {},
   "outputs": [],
   "source": [
    "load_dir = '/Users/dmitrykorzhov/Desktop/Root/projects/oura_ai/backend/ml_models'\n",
    "\n",
    "loaded_models = load_models(metrics, load_dir)\n",
    "\n",
    "importance_dfs = {metric: compute_feature_importances(model) for metric, model in loaded_models.items()}\n",
    "\n",
    "analysis_results = {metric: analyze_feature_importance(importance_df) for metric, importance_df in importance_dfs.items()}"
   ]
  },
  {
   "cell_type": "code",
   "execution_count": 18,
   "metadata": {},
   "outputs": [
    {
     "name": "stdout",
     "output_type": "stream",
     "text": [
      "\n",
      "Metric: daily_activity_score_model\n",
      "\n",
      "Last week top 10 features:\n",
      "{'daily_readiness_hrv_balance': 0.06974510817468305, 'daily_readiness_sleep_balance': 0.05687766918088922, 'daily_readiness_previous_night': 0.04942478408517465, 'daily_activity_inactivity_alerts': 0.04926234519278551, 'daily_sleep_total_sleep': 0.04710549278214464, 'daily_activity_move_every_hour': 0.04046762870264809, 'daily_activity_high_activity_time': 0.03959399142185361, 'daily_sleep_latency': 0.03807918298675497, 'daily_readiness_previous_day_activity': 0.03685145826034731, 'daily_activity_meet_daily_targets': 0.03270690546449323}\n",
      "\n",
      "Last month top 10 features:\n",
      "{'daily_activity_sedentary_time': 0.049684932082925994, 'daily_activity_stay_active': 0.047218252954109786, 'daily_activity_low_activity_time': 0.046517008703347316, 'daily_sleep_total_sleep': 0.04157621477655977, 'daily_readiness_hrv_balance': 0.04117010307002097, 'daily_sleep_deep_sleep': 0.03648043472548389, 'daily_readiness_previous_night': 0.03646536493775554, 'daily_readiness_body_temperature': 0.03281774254729677, 'daily_activity_meters_to_target': 0.032272974947903925, 'daily_activity_medium_activity_time': 0.03143644457468451}\n",
      "\n",
      "Last 3 months top 10 features:\n",
      "{'daily_activity_sedentary_time': 0.05069009378073993, 'daily_activity_high_activity_time': 0.03878961360906951, 'daily_activity_low_activity_time': 0.03831786038626201, 'daily_sleep_rem_sleep': 0.03741359093952693, 'daily_activity_stay_active': 0.03693955751558286, 'daily_activity_equivalent_walking_distance': 0.03617105110327972, 'daily_activity_meters_to_target': 0.03412857765616363, 'daily_readiness_hrv_balance': 0.03213005936725522, 'daily_readiness_previous_night': 0.032053182121208425, 'daily_sleep_total_sleep': 0.03156564562831859}\n",
      "\n",
      "Features consistently in top 20 for the last month:\n",
      "{'daily_sleep_total_sleep': 0.03090898368866764, 'daily_activity_sedentary_time': 0.044103441235199214, 'daily_activity_stay_active': 0.02936080081730732}\n",
      "\n",
      "Features consistently in top 20 for the last 3 months:\n",
      "{}\n",
      "\n",
      "Features new this week (which weren't in the previous week):\n",
      "['daily_sleep_total_sleep', 'daily_readiness_sleep_balance', 'daily_activity_high_activity_time', 'daily_sleep_latency', 'daily_readiness_previous_day_activity', 'daily_activity_meet_daily_targets', 'daily_activity_inactivity_alerts', 'daily_readiness_previous_night', 'daily_activity_move_every_hour']\n",
      "\n",
      "Features new this week (which weren't in the previous month):\n",
      "['daily_readiness_sleep_balance', 'daily_activity_high_activity_time', 'daily_sleep_latency', 'daily_readiness_previous_day_activity', 'daily_activity_meet_daily_targets', 'daily_activity_inactivity_alerts', 'daily_activity_move_every_hour']\n",
      "\n",
      "Metric: daily_readiness_score_model\n",
      "\n",
      "Last week top 10 features:\n",
      "{'daily_activity_high_activity_time': 0.08637544773139456, 'daily_activity_target_calories': 0.05864987142163639, 'daily_readiness_hrv_balance': 0.05200604666960393, 'daily_activity_total_calories': 0.04870015865462635, 'daily_activity_target_meters': 0.047908721068025795, 'daily_readiness_temperature_trend_deviation': 0.0445630699924875, 'daily_activity_high_activity_met_minutes': 0.03955850016929089, 'daily_readiness_resting_heart_rate': 0.03590912736237243, 'daily_sleep_efficiency': 0.03454259884691134, 'daily_activity_steps': 0.03029399398744066}\n",
      "\n",
      "Last month top 10 features:\n",
      "{'daily_activity_sedentary_time': 0.05806432227455784, 'daily_readiness_recovery_index': 0.04811243700854767, 'daily_sleep_total_sleep': 0.04800952220678253, 'daily_readiness_temperature_trend_deviation': 0.047221102094293775, 'daily_readiness_previous_day_activity': 0.04035572680040237, 'daily_activity_high_activity_time': 0.03706423634093301, 'daily_readiness_sleep_balance': 0.034820458735441824, 'daily_activity_target_meters': 0.03475075722441631, 'daily_activity_low_activity_time': 0.034061940830687955, 'daily_activity_target_calories': 0.03346913367603691}\n",
      "\n",
      "Last 3 months top 10 features:\n",
      "{'daily_activity_low_activity_time': 0.04873805070636018, 'daily_activity_sedentary_time': 0.04119323004806408, 'daily_activity_high_activity_time': 0.04051707238229828, 'daily_readiness_previous_day_activity': 0.03617300194094935, 'daily_sleep_rem_sleep': 0.035426060836723894, 'daily_activity_meters_to_target': 0.03333902475280393, 'daily_stress_recovery_high': 0.03256072117413884, 'daily_readiness_temperature_trend_deviation': 0.03166516626569569, 'daily_activity_low_activity_met_minutes': 0.031464909489617346, 'daily_sleep_efficiency': 0.030581058250526243}\n",
      "\n",
      "Features consistently in top 20 for the last month:\n",
      "{'daily_sleep_total_sleep': 0.0322147193488764, 'daily_readiness_recovery_index': 0.027625971805203913, 'daily_activity_low_activity_time': 0.03811268390503406, 'daily_activity_target_meters': 0.017292430502025453, 'daily_readiness_previous_day_activity': 0.034904394728959245, 'daily_activity_sedentary_time': 0.03496100399829155, 'daily_activity_target_calories': 0.020425801101703004, 'daily_readiness_temperature_trend_deviation': 0.03325331716164942, 'daily_stress_recovery_high': 0.027195916247477924}\n",
      "\n",
      "Features consistently in top 20 for the last 3 months:\n",
      "{}\n",
      "\n",
      "Features new this week (which weren't in the previous week):\n",
      "['daily_activity_high_activity_met_minutes', 'daily_activity_target_meters', 'daily_readiness_hrv_balance', 'daily_activity_total_calories', 'daily_readiness_resting_heart_rate']\n",
      "\n",
      "Features new this week (which weren't in the previous month):\n",
      "['daily_activity_high_activity_met_minutes', 'daily_activity_steps', 'daily_readiness_hrv_balance', 'daily_activity_total_calories', 'daily_readiness_resting_heart_rate', 'daily_sleep_efficiency']\n",
      "\n",
      "Metric: daily_stress_day_summary_model\n",
      "\n",
      "Last week top 10 features:\n",
      "{'daily_readiness_hrv_balance': 0.09859154929577461, 'daily_stress_recovery_high': 0.0704225352112676, 'daily_activity_total_calories': 0.0704225352112676, 'daily_readiness_resting_heart_rate': 0.0704225352112676, 'daily_activity_meters_to_target': 0.0704225352112676, 'daily_sleep_rem_sleep': 0.05633802816901407, 'daily_activity_non_wear_time': 0.042253521126760556, 'daily_activity_equivalent_walking_distance': 0.042253521126760556, 'daily_sleep_efficiency': 0.042253521126760556, 'daily_sleep_total_sleep': 0.042253521126760556}\n",
      "\n",
      "Last month top 10 features:\n",
      "{'daily_activity_high_activity_time': 0.04326454742450448, 'daily_readiness_previous_day_activity': 0.03560405643738977, 'daily_readiness_temperature_deviation': 0.03406585698252365, 'daily_activity_non_wear_time': 0.03367105027733047, 'daily_stress_recovery_high': 0.03171108587020422, 'daily_readiness_hrv_balance': 0.0261039338635957, 'daily_readiness_sleep_balance': 0.026016505636070848, 'daily_activity_total_calories': 0.023633196904634102, 'daily_sleep_efficiency': 0.023192878869207373, 'daily_activity_resting_time': 0.0228310392863533}\n",
      "\n",
      "Last 3 months top 10 features:\n",
      "{'daily_readiness_hrv_balance': 0.04160692712996139, 'daily_activity_high_activity_time': 0.0406276088938227, 'daily_readiness_temperature_deviation': 0.034707748802696226, 'daily_stress_stress_high': 0.034655663458637784, 'daily_stress_recovery_high': 0.03385556195392363, 'daily_activity_low_activity_time': 0.0287374430258417, 'daily_readiness_previous_day_activity': 0.028364957194572743, 'daily_activity_meters_to_target': 0.026869378843798423, 'daily_activity_total_calories': 0.026118159074130162, 'daily_activity_equivalent_walking_distance': 0.0233899728209862}\n",
      "\n",
      "Features consistently in top 20 for the last month:\n",
      "{'daily_activity_high_activity_time': 0.04133096459397808, 'daily_activity_non_wear_time': 0.016520358801062132, 'daily_activity_sedentary_time': 0.028288939234228986, 'daily_activity_resting_time': 0.025256164714126013, 'daily_activity_equivalent_walking_distance': 0.027575770784823338, 'daily_activity_meters_to_target': 0.028287964877760908, 'daily_activity_low_activity_met_minutes': 0.024358756626631766}\n",
      "\n",
      "Features consistently in top 20 for the last 3 months:\n",
      "{'daily_activity_sedentary_time': 0.028288939234228986}\n",
      "\n",
      "Features new this week (which weren't in the previous week):\n",
      "['daily_sleep_total_sleep', 'daily_readiness_hrv_balance', 'daily_activity_equivalent_walking_distance', 'daily_sleep_rem_sleep', 'daily_activity_meters_to_target', 'daily_readiness_resting_heart_rate', 'daily_stress_recovery_high']\n",
      "\n",
      "Features new this week (which weren't in the previous month):\n",
      "['daily_sleep_total_sleep', 'daily_activity_equivalent_walking_distance', 'daily_sleep_rem_sleep', 'daily_activity_meters_to_target', 'daily_readiness_resting_heart_rate']\n",
      "\n",
      "Metric: daily_sleep_score_model\n",
      "\n",
      "Last week top 10 features:\n",
      "{'daily_readiness_sleep_balance': 0.06782793724615326, 'daily_readiness_recovery_index': 0.0465576501571922, 'daily_readiness_temperature_trend_deviation': 0.04584827463033923, 'daily_activity_low_activity_time': 0.042427792048075286, 'daily_activity_sedentary_time': 0.039362184190228945, 'daily_activity_high_activity_time': 0.036840042023842334, 'daily_sleep_latency': 0.036261870242200615, 'daily_readiness_resting_heart_rate': 0.03621633539252364, 'daily_readiness_previous_night': 0.03588809880932541, 'daily_activity_low_activity_met_minutes': 0.03529424957183096}\n",
      "\n",
      "Last month top 10 features:\n",
      "{'daily_activity_sedentary_time': 0.057229395945481515, 'daily_activity_stay_active': 0.04634495386367613, 'daily_activity_low_activity_time': 0.04302464929151508, 'daily_activity_equivalent_walking_distance': 0.042857400991453624, 'daily_readiness_recovery_index': 0.04218589596061572, 'daily_readiness_previous_day_activity': 0.03916135627881769, 'daily_sleep_latency': 0.037382169259611124, 'daily_readiness_temperature_deviation': 0.03612340579974658, 'daily_readiness_previous_night': 0.03529725210854914, 'daily_activity_resting_time': 0.03509151106682062}\n",
      "\n",
      "Last 3 months top 10 features:\n",
      "{'daily_activity_sedentary_time': 0.05228505582157988, 'daily_activity_high_activity_time': 0.041221566528194316, 'daily_stress_recovery_high': 0.04112678552089796, 'daily_readiness_previous_night': 0.04060147639298727, 'daily_activity_stay_active': 0.03961951000805093, 'daily_activity_resting_time': 0.03784280592290166, 'daily_readiness_temperature_trend_deviation': 0.03699633248158057, 'daily_activity_low_activity_time': 0.03625026093509217, 'daily_activity_equivalent_walking_distance': 0.03483774443646784, 'daily_sleep_restfulness': 0.032762033969185284}\n",
      "\n",
      "Features consistently in top 20 for the last month:\n",
      "{'daily_activity_low_activity_time': 0.034205236494133595, 'daily_activity_high_activity_time': 0.03884428346955046, 'daily_sleep_latency': 0.03124973485294621, 'daily_readiness_previous_day_activity': 0.03616813846024347, 'daily_activity_sedentary_time': 0.038340208107968336, 'daily_activity_stay_active': 0.029622871819957992, 'daily_readiness_temperature_trend_deviation': 0.03711743767499251, 'daily_activity_equivalent_walking_distance': 0.029912163014723776}\n",
      "\n",
      "Features consistently in top 20 for the last 3 months:\n",
      "{}\n",
      "\n",
      "Features new this week (which weren't in the previous week):\n",
      "['daily_readiness_recovery_index', 'daily_activity_high_activity_time', 'daily_readiness_temperature_trend_deviation', 'daily_readiness_resting_heart_rate', 'daily_activity_low_activity_met_minutes']\n",
      "\n",
      "Features new this week (which weren't in the previous month):\n",
      "['daily_readiness_sleep_balance', 'daily_activity_high_activity_time', 'daily_readiness_temperature_trend_deviation', 'daily_readiness_resting_heart_rate', 'daily_activity_low_activity_met_minutes']\n"
     ]
    }
   ],
   "source": [
    "for metric, results in analysis_results.items():\n",
    "    print(f\"\\nMetric: {metric}\")\n",
    "    print(\"\\nLast week top 10 features:\")\n",
    "    print(results['last_week_top_10'])\n",
    "    print(\"\\nLast month top 10 features:\")\n",
    "    print(results['last_month_top_10'])\n",
    "    print(\"\\nLast 3 months top 10 features:\")\n",
    "    print(results['last_3months_top_10'])\n",
    "    print(\"\\nFeatures consistently in top 20 for the last month:\")\n",
    "    print(results['consistent_monthly_features'])\n",
    "    print(\"\\nFeatures consistently in top 20 for the last 3 months:\")\n",
    "    print(results['consistent_3months_features'])\n",
    "    print(\"\\nFeatures new this week (which weren't in the previous week):\")\n",
    "    print(results['new_this_week'])\n",
    "    print(\"\\nFeatures new this week (which weren't in the previous month):\")\n",
    "    print(results['new_this_month'])"
   ]
  },
  {
   "cell_type": "markdown",
   "metadata": {},
   "source": [
    "## Analytics / Data Mapping"
   ]
  },
  {
   "cell_type": "code",
   "execution_count": null,
   "metadata": {},
   "outputs": [],
   "source": [
    "## read metrics to do \n",
    "\n",
    "## descriptions for each metric to do \n",
    "\n",
    "## drop model to backend to do \n",
    "\n",
    "## celery to run everything once a day to do\n",
    "\n",
    "## openai functions for chat and daily featured insights to do"
   ]
  }
 ],
 "metadata": {
  "kernelspec": {
   "display_name": "Python 3",
   "language": "python",
   "name": "python3"
  },
  "language_info": {
   "codemirror_mode": {
    "name": "ipython",
    "version": 3
   },
   "file_extension": ".py",
   "mimetype": "text/x-python",
   "name": "python",
   "nbconvert_exporter": "python",
   "pygments_lexer": "ipython3",
   "version": "3.11.3"
  }
 },
 "nbformat": 4,
 "nbformat_minor": 2
}
